{
 "cells": [
  {
   "cell_type": "code",
   "execution_count": 2,
   "id": "initial_id",
   "metadata": {
    "collapsed": true,
    "ExecuteTime": {
     "end_time": "2024-03-15T14:11:33.121514700Z",
     "start_time": "2024-03-15T14:11:33.108433800Z"
    }
   },
   "outputs": [],
   "source": [
    "import os\n",
    "\n",
    "from typing import Dict, Optional\n",
    "\n",
    "\n",
    "def get_aws_credentials_from_env() -> Dict[str, Optional[str]]:\n",
    "    \"\"\"\n",
    "    Fetch AWS credentials from environment variables and return them in a dictionary.\n",
    "\n",
    "    Returns:\n",
    "        Dict[str, Optional[str]]: A dictionary with keys 'aws_access_key_id', 'aws_secret_access_key',\n",
    "                                   and 'aws_session_token'. If a credential is not found,\n",
    "                                   `None` is returned as its value.\n",
    "    \"\"\"\n",
    "    # Fetch credentials from environment variables\n",
    "    aws_access_key_id: Optional[str] = os.getenv('AWS_ACCESS_KEY_ID')\n",
    "    aws_secret_access_key: Optional[str] = os.getenv('AWS_SECRET_ACCESS_KEY')\n",
    "    aws_session_token: Optional[str] = os.getenv('AWS_SESSION_TOKEN')  # Optional, used for temporary credentials\n",
    "\n",
    "    # Return the credentials in a dictionary\n",
    "    return {\n",
    "        'aws_access_key_id': aws_access_key_id,\n",
    "        'aws_secret_access_key': aws_secret_access_key,\n",
    "        'aws_session_token': aws_session_token\n",
    "    }"
   ]
  }
 ],
 "metadata": {
  "kernelspec": {
   "display_name": "Python 3",
   "language": "python",
   "name": "python3"
  },
  "language_info": {
   "codemirror_mode": {
    "name": "ipython",
    "version": 2
   },
   "file_extension": ".py",
   "mimetype": "text/x-python",
   "name": "python",
   "nbconvert_exporter": "python",
   "pygments_lexer": "ipython2",
   "version": "2.7.6"
  }
 },
 "nbformat": 4,
 "nbformat_minor": 5
}
