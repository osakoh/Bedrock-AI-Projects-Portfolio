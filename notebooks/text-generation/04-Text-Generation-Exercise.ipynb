{
 "cells": [
  {
   "cell_type": "markdown",
   "id": "a4daa08c-9fd7-4abd-9e54-076e32b793be",
   "metadata": {},
   "source": [
    "<a href = \"https://www.pieriantraining.com\"><img src=\"../PT Centered Purple.png\"> </a>\n",
    "\n",
    "<em style=\"text-align:center\">Copyrighted by Pierian Training</em>"
   ]
  },
  {
   "cell_type": "markdown",
   "id": "99063c68-3f97-4dbc-8881-a1be7fa00d3b",
   "metadata": {},
   "source": [
    "# Text Generation Exercise \n",
    "\n",
    "# GOAL: Using LLMs, create a program that can read in a PDF and create a simplified explanation.\n",
    "### COMPLETE THE TASKS BELOW, NOTE SOME CELLS ARE ALREADY FILLED OUT FOR YOU"
   ]
  },
  {
   "cell_type": "markdown",
   "id": "a2050cd3-5238-49fd-bd07-f043e22d017f",
   "metadata": {},
   "source": [
    "----"
   ]
  },
  {
   "cell_type": "markdown",
   "id": "5342c2c2-5bb2-4432-8185-8a1f4640070c",
   "metadata": {},
   "source": [
    "## TASK: Install PyPDF2 Library if you do not have it already. Hint: https://pypdf2.readthedocs.io/en/3.0.0/user/installation.html"
   ]
  },
  {
   "cell_type": "code",
   "execution_count": 21,
   "id": "36891108-59a1-4c82-a0ee-e02175b0d810",
   "metadata": {},
   "outputs": [],
   "source": [
    "#Install Here with !pip install library_name or Install at Command Line"
   ]
  },
  {
   "cell_type": "code",
   "execution_count": 22,
   "id": "a493adc3-6add-44db-9d15-4406040c598b",
   "metadata": {},
   "outputs": [
    {
     "name": "stdout",
     "output_type": "stream",
     "text": [
      "Defaulting to user installation because normal site-packages is not writeable\n",
      "Requirement already satisfied: PyPDF2 in c:\\users\\marcial\\appdata\\roaming\\python\\python39\\site-packages (3.0.1)\n",
      "Requirement already satisfied: typing_extensions>=3.10.0.0 in c:\\users\\marcial\\appdata\\roaming\\python\\python39\\site-packages (from PyPDF2) (4.5.0)\n"
     ]
    },
    {
     "name": "stderr",
     "output_type": "stream",
     "text": [
      "WARNING: Ignoring invalid distribution -atplotlib (c:\\users\\marcial\\appdata\\roaming\\python\\python39\\site-packages)\n",
      "WARNING: Ignoring invalid distribution -atplotlib (c:\\users\\marcial\\appdata\\roaming\\python\\python39\\site-packages)\n",
      "WARNING: Ignoring invalid distribution -atplotlib (c:\\users\\marcial\\appdata\\roaming\\python\\python39\\site-packages)\n",
      "WARNING: Ignoring invalid distribution -atplotlib (c:\\users\\marcial\\appdata\\roaming\\python\\python39\\site-packages)\n",
      "WARNING: Ignoring invalid distribution -atplotlib (c:\\users\\marcial\\appdata\\roaming\\python\\python39\\site-packages)\n",
      "WARNING: Ignoring invalid distribution -atplotlib (c:\\users\\marcial\\appdata\\roaming\\python\\python39\\site-packages)\n"
     ]
    }
   ],
   "source": []
  },
  {
   "cell_type": "markdown",
   "id": "17d21095-6ad8-4139-9360-378ebd449032",
   "metadata": {},
   "source": [
    "## TASK: Write a function that uses PyPDF2 Library to Read in the Corporate_Travel_Policy.pdf file text as a string.\n",
    "\n",
    "Hint: This PDF only has one single page, so index 0 is the only page you need to read.\n",
    "\n",
    "Hint: Reading in PDFs usually causes some issues, see if you can fix this by replace \\n with just a whitespace. Use the .replace() method for this. Remember you care more about content than true formatting for the LLM.\n",
    "\n",
    "Hint: https://pypdf2.readthedocs.io/en/3.0.0/user/extract-text.html"
   ]
  },
  {
   "cell_type": "code",
   "execution_count": 31,
   "id": "7f3fe47b-a457-4457-b2ef-57214bffb07b",
   "metadata": {},
   "outputs": [],
   "source": [
    "# CODE HERE"
   ]
  },
  {
   "cell_type": "code",
   "execution_count": 32,
   "id": "0e124cb5-5a0a-45d9-b09b-50bc3d439a57",
   "metadata": {},
   "outputs": [],
   "source": []
  },
  {
   "cell_type": "code",
   "execution_count": 33,
   "id": "c6089a87-971b-4df0-b878-1783ee6b0b91",
   "metadata": {},
   "outputs": [
    {
     "data": {
      "text/plain": [
       "\"Corporate Travel and Time Off Policy Introduction This policy establishes clear guidelines and procedures for time off and corporate travel for employees. It aims to ensure fair and consistent application throughout the organization while supporting operational needs. Annual Paid Time Off (PTO) Entitlement ● PTO Allocation: All employees receive five weeks (25 working days) of PTO per calendar year . ● Accrual of PTO: PTO accrues monthly based on the annual entitlement. ● Carryover: Unused PTO cannot be carried over to the next year . Employees are encouraged to utilize their PTO within the accrual year . Time Off Beyond PTO ● Managerial Approval: Additional time off beyond the allocated five weeks requires prior approval from the employee's direct manager . ● Request Procedure: Submit time off requests at least four weeks in advance for any period exceeding annual PTO. ● Considerations for Approval: Managers will assess the operational impact, employee performance and attendance, and reason for additional time off. ● Unapproved Time Off: Unapproved time off beyond allocated PTO may result in disciplinary action. Corporate Travel ● Travel Approval: All corporate travel requires pre-approval from the employee's manager and the travel department. ● Travel Arrangements: Use the company's designated travel agency for booking flights, accommodation, and ground transportation. ● Travel Expense Policy: Follow the company's travel expense policy regarding permissible expenses and reimbursement procedures. ● International Travel: Ensure valid travel documents and adherence to company-issued travel advisories when traveling internationally .\""
      ]
     },
     "execution_count": 33,
     "metadata": {},
     "output_type": "execute_result"
    }
   ],
   "source": []
  },
  {
   "cell_type": "markdown",
   "id": "959bcd3a-b761-445f-9968-36443dce30ca",
   "metadata": {},
   "source": [
    "----"
   ]
  },
  {
   "cell_type": "markdown",
   "id": "8ffe2bfe-bb68-4ee1-8878-a8b5ae40213e",
   "metadata": {},
   "source": [
    "## TASK: Establish a connection to Amazon Bedrock Runtime"
   ]
  },
  {
   "cell_type": "code",
   "execution_count": 34,
   "id": "100f7574-d499-4536-87b9-76d5dc1d0caa",
   "metadata": {},
   "outputs": [],
   "source": [
    "# CODE HERE"
   ]
  },
  {
   "cell_type": "code",
   "execution_count": 35,
   "id": "ee79c51d-a862-4fa1-b0e5-d7d61b1f2d15",
   "metadata": {},
   "outputs": [],
   "source": []
  },
  {
   "cell_type": "markdown",
   "id": "ac62181a-d6aa-4efd-b2e2-f4e0c378ccc7",
   "metadata": {},
   "source": [
    "## TASK: Engineer a Prompt that takes in a user question about the PDF text and then inserts the text as context.\n",
    "\n",
    "**For an example user question, try: \"How many working days of PTO do employees get?\"**"
   ]
  },
  {
   "cell_type": "code",
   "execution_count": 37,
   "id": "0d1bf836-1621-492f-b762-c870af7aaa57",
   "metadata": {},
   "outputs": [],
   "source": [
    "#CODE HERE"
   ]
  },
  {
   "cell_type": "code",
   "execution_count": 38,
   "id": "c3370dca-6c0a-4f48-a272-d4da6980e2de",
   "metadata": {},
   "outputs": [],
   "source": []
  },
  {
   "cell_type": "code",
   "execution_count": 39,
   "id": "d56cd225-1047-4deb-bfe2-1cb9a8cade78",
   "metadata": {},
   "outputs": [],
   "source": []
  },
  {
   "cell_type": "markdown",
   "id": "f1d22f48-8c93-4cc2-be12-6970faf7f145",
   "metadata": {},
   "source": [
    "## TASK: Test your prompt by calling it with an Amazon Bedrock Model, choose any model you prefer."
   ]
  },
  {
   "cell_type": "code",
   "execution_count": 40,
   "id": "801ffb57-0374-4b80-a26e-f965c083769c",
   "metadata": {},
   "outputs": [],
   "source": [
    "# CODE HERE"
   ]
  },
  {
   "cell_type": "code",
   "execution_count": 41,
   "id": "2292a541-d587-49e9-bd39-ca3aeef3b4aa",
   "metadata": {},
   "outputs": [],
   "source": []
  },
  {
   "cell_type": "code",
   "execution_count": 43,
   "id": "5d30ebd9-87bd-4c2f-aa14-6cc4ac4236f4",
   "metadata": {},
   "outputs": [
    {
     "name": "stdout",
     "output_type": "stream",
     "text": [
      "\n",
      "Based on the provided content, employees receive five weeks (25 working days) of PTO per calendar year.\n"
     ]
    }
   ],
   "source": []
  },
  {
   "cell_type": "markdown",
   "id": "cd700be9-510d-490b-aa62-815c5e744bc6",
   "metadata": {},
   "source": [
    "## OPTIONAL TASK: Create one single function that takes in a PDF and a user question, then returns the answer via the LLM call. Basically just create a single function out of everything you just did above."
   ]
  },
  {
   "cell_type": "code",
   "execution_count": 44,
   "id": "f28c5d43-bc9d-4197-bc6b-87220abddbe1",
   "metadata": {},
   "outputs": [],
   "source": [
    "# COMBINE ALL YOUR CODE HERE TO ONE NICE FUNCTION"
   ]
  },
  {
   "cell_type": "code",
   "execution_count": 49,
   "id": "bbf572c9-5808-447f-9fc1-85cadbc2b77d",
   "metadata": {},
   "outputs": [],
   "source": []
  },
  {
   "cell_type": "code",
   "execution_count": 51,
   "id": "35340bd7-24ac-4abd-a06f-2f16664a8947",
   "metadata": {},
   "outputs": [
    {
     "name": "stdout",
     "output_type": "stream",
     "text": [
      "\n",
      "Based on the provided content, employees receive five weeks (25 working days) of PTO per calendar year.\n"
     ]
    }
   ],
   "source": [
    "result = answer_with_context(\"How many working days of PTO do employees get per year?\", \"Corporate_Travel_Policy.pdf\")\n",
    "print(result)"
   ]
  },
  {
   "cell_type": "code",
   "execution_count": null,
   "id": "63f86ce2-1f7f-43dd-96df-628a5defca5a",
   "metadata": {},
   "outputs": [],
   "source": []
  }
 ],
 "metadata": {
  "kernelspec": {
   "display_name": "Python 3 (ipykernel)",
   "language": "python",
   "name": "python3"
  },
  "language_info": {
   "codemirror_mode": {
    "name": "ipython",
    "version": 3
   },
   "file_extension": ".py",
   "mimetype": "text/x-python",
   "name": "python",
   "nbconvert_exporter": "python",
   "pygments_lexer": "ipython3",
   "version": "3.9.12"
  }
 },
 "nbformat": 4,
 "nbformat_minor": 5
}
