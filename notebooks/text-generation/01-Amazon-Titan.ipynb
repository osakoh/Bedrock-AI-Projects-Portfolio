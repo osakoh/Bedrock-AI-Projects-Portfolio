{
 "cells": [
  {
   "cell_type": "code",
   "outputs": [],
   "source": [
    "import boto3"
   ],
   "metadata": {
    "collapsed": false,
    "ExecuteTime": {
     "end_time": "2024-03-15T14:15:35.156426900Z",
     "start_time": "2024-03-15T14:15:35.061586Z"
    }
   },
   "id": "a65b9554425eca34",
   "execution_count": 32
  },
  {
   "cell_type": "code",
   "outputs": [],
   "source": [
    "%run ../get_credentials.ipynb"
   ],
   "metadata": {
    "collapsed": false,
    "ExecuteTime": {
     "end_time": "2024-03-15T14:15:35.219752200Z",
     "start_time": "2024-03-15T14:15:35.170568900Z"
    }
   },
   "id": "81ed6117f18e7b2d",
   "execution_count": 33
  },
  {
   "cell_type": "code",
   "outputs": [],
   "source": [
    "credentials = get_aws_credentials_from_env()"
   ],
   "metadata": {
    "collapsed": false,
    "ExecuteTime": {
     "end_time": "2024-03-15T14:15:35.221754400Z",
     "start_time": "2024-03-15T14:15:35.191567400Z"
    }
   },
   "id": "c2f086065f129ef8",
   "execution_count": 34
  },
  {
   "cell_type": "code",
   "execution_count": 35,
   "id": "ef45c8e4-29cf-4430-b164-6d00f97f1e8c",
   "metadata": {
    "ExecuteTime": {
     "end_time": "2024-03-15T14:15:35.286925900Z",
     "start_time": "2024-03-15T14:15:35.225753900Z"
    }
   },
   "outputs": [],
   "source": [
    "bedrock = boto3.client(service_name=\"bedrock\",\n",
    "                       region_name=\"us-east-1\",\n",
    "                       **credentials\n",
    "                       )"
   ]
  },
  {
   "cell_type": "code",
   "outputs": [
    {
     "data": {
      "text/plain": "{'ResponseMetadata': {'RequestId': '08e4cab6-f018-4a07-ae06-642d7dd40df9',\n  'HTTPStatusCode': 200,\n  'HTTPHeaders': {'date': 'Fri, 15 Mar 2024 14:15:36 GMT',\n   'content-type': 'application/json',\n   'content-length': '18333',\n   'connection': 'keep-alive',\n   'x-amzn-requestid': '08e4cab6-f018-4a07-ae06-642d7dd40df9'},\n  'RetryAttempts': 0},\n 'modelSummaries': [{'modelArn': 'arn:aws:bedrock:us-east-1::foundation-model/amazon.titan-tg1-large',\n   'modelId': 'amazon.titan-tg1-large',\n   'modelName': 'Titan Text Large',\n   'providerName': 'Amazon',\n   'inputModalities': ['TEXT'],\n   'outputModalities': ['TEXT'],\n   'responseStreamingSupported': True,\n   'customizationsSupported': [],\n   'inferenceTypesSupported': ['ON_DEMAND']},\n  {'modelArn': 'arn:aws:bedrock:us-east-1::foundation-model/amazon.titan-image-generator-v1:0',\n   'modelId': 'amazon.titan-image-generator-v1:0',\n   'modelName': 'Titan Image Generator G1',\n   'providerName': 'Amazon',\n   'inputModalities': ['TEXT', 'IMAGE'],\n   'outputModalities': ['IMAGE'],\n   'customizationsSupported': ['FINE_TUNING'],\n   'inferenceTypesSupported': ['PROVISIONED']},\n  {'modelArn': 'arn:aws:bedrock:us-east-1::foundation-model/amazon.titan-image-generator-v1',\n   'modelId': 'amazon.titan-image-generator-v1',\n   'modelName': 'Titan Image Generator G1',\n   'providerName': 'Amazon',\n   'inputModalities': ['TEXT', 'IMAGE'],\n   'outputModalities': ['IMAGE'],\n   'customizationsSupported': [],\n   'inferenceTypesSupported': ['ON_DEMAND']},\n  {'modelArn': 'arn:aws:bedrock:us-east-1::foundation-model/amazon.titan-embed-g1-text-02',\n   'modelId': 'amazon.titan-embed-g1-text-02',\n   'modelName': 'Titan Text Embeddings v2',\n   'providerName': 'Amazon',\n   'inputModalities': ['TEXT'],\n   'outputModalities': ['EMBEDDING'],\n   'customizationsSupported': [],\n   'inferenceTypesSupported': ['ON_DEMAND']},\n  {'modelArn': 'arn:aws:bedrock:us-east-1::foundation-model/amazon.titan-text-lite-v1:0:4k',\n   'modelId': 'amazon.titan-text-lite-v1:0:4k',\n   'modelName': 'Titan Text G1 - Lite',\n   'providerName': 'Amazon',\n   'inputModalities': ['TEXT'],\n   'outputModalities': ['TEXT'],\n   'responseStreamingSupported': True,\n   'customizationsSupported': ['FINE_TUNING', 'CONTINUED_PRE_TRAINING'],\n   'inferenceTypesSupported': ['PROVISIONED']},\n  {'modelArn': 'arn:aws:bedrock:us-east-1::foundation-model/amazon.titan-text-lite-v1',\n   'modelId': 'amazon.titan-text-lite-v1',\n   'modelName': 'Titan Text G1 - Lite',\n   'providerName': 'Amazon',\n   'inputModalities': ['TEXT'],\n   'outputModalities': ['TEXT'],\n   'responseStreamingSupported': True,\n   'customizationsSupported': [],\n   'inferenceTypesSupported': ['ON_DEMAND']},\n  {'modelArn': 'arn:aws:bedrock:us-east-1::foundation-model/amazon.titan-text-express-v1:0:8k',\n   'modelId': 'amazon.titan-text-express-v1:0:8k',\n   'modelName': 'Titan Text G1 - Express',\n   'providerName': 'Amazon',\n   'inputModalities': ['TEXT'],\n   'outputModalities': ['TEXT'],\n   'responseStreamingSupported': True,\n   'customizationsSupported': ['FINE_TUNING', 'CONTINUED_PRE_TRAINING'],\n   'inferenceTypesSupported': ['PROVISIONED']},\n  {'modelArn': 'arn:aws:bedrock:us-east-1::foundation-model/amazon.titan-text-express-v1',\n   'modelId': 'amazon.titan-text-express-v1',\n   'modelName': 'Titan Text G1 - Express',\n   'providerName': 'Amazon',\n   'inputModalities': ['TEXT'],\n   'outputModalities': ['TEXT'],\n   'responseStreamingSupported': True,\n   'customizationsSupported': [],\n   'inferenceTypesSupported': ['ON_DEMAND']},\n  {'modelArn': 'arn:aws:bedrock:us-east-1::foundation-model/amazon.titan-embed-text-v1:2:8k',\n   'modelId': 'amazon.titan-embed-text-v1:2:8k',\n   'modelName': 'Titan Embeddings G1 - Text',\n   'providerName': 'Amazon',\n   'inputModalities': ['TEXT'],\n   'outputModalities': ['EMBEDDING'],\n   'responseStreamingSupported': False,\n   'customizationsSupported': [],\n   'inferenceTypesSupported': ['PROVISIONED']},\n  {'modelArn': 'arn:aws:bedrock:us-east-1::foundation-model/amazon.titan-embed-text-v1',\n   'modelId': 'amazon.titan-embed-text-v1',\n   'modelName': 'Titan Embeddings G1 - Text',\n   'providerName': 'Amazon',\n   'inputModalities': ['TEXT'],\n   'outputModalities': ['EMBEDDING'],\n   'responseStreamingSupported': False,\n   'customizationsSupported': [],\n   'inferenceTypesSupported': ['ON_DEMAND']},\n  {'modelArn': 'arn:aws:bedrock:us-east-1::foundation-model/amazon.titan-embed-image-v1:0',\n   'modelId': 'amazon.titan-embed-image-v1:0',\n   'modelName': 'Titan Multimodal Embeddings G1',\n   'providerName': 'Amazon',\n   'inputModalities': ['TEXT', 'IMAGE'],\n   'outputModalities': ['EMBEDDING'],\n   'customizationsSupported': ['FINE_TUNING'],\n   'inferenceTypesSupported': ['PROVISIONED']},\n  {'modelArn': 'arn:aws:bedrock:us-east-1::foundation-model/amazon.titan-embed-image-v1',\n   'modelId': 'amazon.titan-embed-image-v1',\n   'modelName': 'Titan Multimodal Embeddings G1',\n   'providerName': 'Amazon',\n   'inputModalities': ['TEXT', 'IMAGE'],\n   'outputModalities': ['EMBEDDING'],\n   'customizationsSupported': [],\n   'inferenceTypesSupported': ['ON_DEMAND']},\n  {'modelArn': 'arn:aws:bedrock:us-east-1::foundation-model/stability.stable-diffusion-xl',\n   'modelId': 'stability.stable-diffusion-xl',\n   'modelName': 'SDXL 0.8',\n   'providerName': 'Stability AI',\n   'inputModalities': ['TEXT', 'IMAGE'],\n   'outputModalities': ['IMAGE'],\n   'customizationsSupported': [],\n   'inferenceTypesSupported': ['ON_DEMAND']},\n  {'modelArn': 'arn:aws:bedrock:us-east-1::foundation-model/stability.stable-diffusion-xl-v0',\n   'modelId': 'stability.stable-diffusion-xl-v0',\n   'modelName': 'SDXL 0.8',\n   'providerName': 'Stability AI',\n   'inputModalities': ['TEXT', 'IMAGE'],\n   'outputModalities': ['IMAGE'],\n   'customizationsSupported': [],\n   'inferenceTypesSupported': ['ON_DEMAND']},\n  {'modelArn': 'arn:aws:bedrock:us-east-1::foundation-model/stability.stable-diffusion-xl-v1:0',\n   'modelId': 'stability.stable-diffusion-xl-v1:0',\n   'modelName': 'SDXL 1.0',\n   'providerName': 'Stability AI',\n   'inputModalities': ['TEXT', 'IMAGE'],\n   'outputModalities': ['IMAGE'],\n   'customizationsSupported': [],\n   'inferenceTypesSupported': ['PROVISIONED']},\n  {'modelArn': 'arn:aws:bedrock:us-east-1::foundation-model/stability.stable-diffusion-xl-v1',\n   'modelId': 'stability.stable-diffusion-xl-v1',\n   'modelName': 'SDXL 1.0',\n   'providerName': 'Stability AI',\n   'inputModalities': ['TEXT', 'IMAGE'],\n   'outputModalities': ['IMAGE'],\n   'customizationsSupported': [],\n   'inferenceTypesSupported': ['ON_DEMAND']},\n  {'modelArn': 'arn:aws:bedrock:us-east-1::foundation-model/ai21.j2-grande-instruct',\n   'modelId': 'ai21.j2-grande-instruct',\n   'modelName': 'J2 Grande Instruct',\n   'providerName': 'AI21 Labs',\n   'inputModalities': ['TEXT'],\n   'outputModalities': ['TEXT'],\n   'responseStreamingSupported': False,\n   'customizationsSupported': [],\n   'inferenceTypesSupported': ['ON_DEMAND']},\n  {'modelArn': 'arn:aws:bedrock:us-east-1::foundation-model/ai21.j2-jumbo-instruct',\n   'modelId': 'ai21.j2-jumbo-instruct',\n   'modelName': 'J2 Jumbo Instruct',\n   'providerName': 'AI21 Labs',\n   'inputModalities': ['TEXT'],\n   'outputModalities': ['TEXT'],\n   'responseStreamingSupported': False,\n   'customizationsSupported': [],\n   'inferenceTypesSupported': ['ON_DEMAND']},\n  {'modelArn': 'arn:aws:bedrock:us-east-1::foundation-model/ai21.j2-mid',\n   'modelId': 'ai21.j2-mid',\n   'modelName': 'Jurassic-2 Mid',\n   'providerName': 'AI21 Labs',\n   'inputModalities': ['TEXT'],\n   'outputModalities': ['TEXT'],\n   'responseStreamingSupported': False,\n   'customizationsSupported': [],\n   'inferenceTypesSupported': ['ON_DEMAND']},\n  {'modelArn': 'arn:aws:bedrock:us-east-1::foundation-model/ai21.j2-mid-v1',\n   'modelId': 'ai21.j2-mid-v1',\n   'modelName': 'Jurassic-2 Mid',\n   'providerName': 'AI21 Labs',\n   'inputModalities': ['TEXT'],\n   'outputModalities': ['TEXT'],\n   'responseStreamingSupported': False,\n   'customizationsSupported': [],\n   'inferenceTypesSupported': ['ON_DEMAND']},\n  {'modelArn': 'arn:aws:bedrock:us-east-1::foundation-model/ai21.j2-ultra',\n   'modelId': 'ai21.j2-ultra',\n   'modelName': 'Jurassic-2 Ultra',\n   'providerName': 'AI21 Labs',\n   'inputModalities': ['TEXT'],\n   'outputModalities': ['TEXT'],\n   'responseStreamingSupported': False,\n   'customizationsSupported': [],\n   'inferenceTypesSupported': ['ON_DEMAND']},\n  {'modelArn': 'arn:aws:bedrock:us-east-1::foundation-model/ai21.j2-ultra-v1',\n   'modelId': 'ai21.j2-ultra-v1',\n   'modelName': 'Jurassic-2 Ultra',\n   'providerName': 'AI21 Labs',\n   'inputModalities': ['TEXT'],\n   'outputModalities': ['TEXT'],\n   'responseStreamingSupported': False,\n   'customizationsSupported': [],\n   'inferenceTypesSupported': ['ON_DEMAND']},\n  {'modelArn': 'arn:aws:bedrock:us-east-1::foundation-model/anthropic.claude-instant-v1:2:100k',\n   'modelId': 'anthropic.claude-instant-v1:2:100k',\n   'modelName': 'Claude Instant',\n   'providerName': 'Anthropic',\n   'inputModalities': ['TEXT'],\n   'outputModalities': ['TEXT'],\n   'responseStreamingSupported': True,\n   'customizationsSupported': [],\n   'inferenceTypesSupported': ['PROVISIONED']},\n  {'modelArn': 'arn:aws:bedrock:us-east-1::foundation-model/anthropic.claude-instant-v1',\n   'modelId': 'anthropic.claude-instant-v1',\n   'modelName': 'Claude Instant',\n   'providerName': 'Anthropic',\n   'inputModalities': ['TEXT'],\n   'outputModalities': ['TEXT'],\n   'responseStreamingSupported': True,\n   'customizationsSupported': [],\n   'inferenceTypesSupported': ['ON_DEMAND']},\n  {'modelArn': 'arn:aws:bedrock:us-east-1::foundation-model/anthropic.claude-v2:0:18k',\n   'modelId': 'anthropic.claude-v2:0:18k',\n   'modelName': 'Claude',\n   'providerName': 'Anthropic',\n   'inputModalities': ['TEXT'],\n   'outputModalities': ['TEXT'],\n   'responseStreamingSupported': True,\n   'customizationsSupported': [],\n   'inferenceTypesSupported': ['PROVISIONED']},\n  {'modelArn': 'arn:aws:bedrock:us-east-1::foundation-model/anthropic.claude-v2:0:100k',\n   'modelId': 'anthropic.claude-v2:0:100k',\n   'modelName': 'Claude',\n   'providerName': 'Anthropic',\n   'inputModalities': ['TEXT'],\n   'outputModalities': ['TEXT'],\n   'responseStreamingSupported': True,\n   'customizationsSupported': [],\n   'inferenceTypesSupported': ['PROVISIONED']},\n  {'modelArn': 'arn:aws:bedrock:us-east-1::foundation-model/anthropic.claude-v2:1:18k',\n   'modelId': 'anthropic.claude-v2:1:18k',\n   'modelName': 'Claude',\n   'providerName': 'Anthropic',\n   'inputModalities': ['TEXT'],\n   'outputModalities': ['TEXT'],\n   'responseStreamingSupported': True,\n   'customizationsSupported': [],\n   'inferenceTypesSupported': ['PROVISIONED']},\n  {'modelArn': 'arn:aws:bedrock:us-east-1::foundation-model/anthropic.claude-v2:1:200k',\n   'modelId': 'anthropic.claude-v2:1:200k',\n   'modelName': 'Claude',\n   'providerName': 'Anthropic',\n   'inputModalities': ['TEXT'],\n   'outputModalities': ['TEXT'],\n   'responseStreamingSupported': True,\n   'customizationsSupported': [],\n   'inferenceTypesSupported': ['PROVISIONED']},\n  {'modelArn': 'arn:aws:bedrock:us-east-1::foundation-model/anthropic.claude-v2:1',\n   'modelId': 'anthropic.claude-v2:1',\n   'modelName': 'Claude',\n   'providerName': 'Anthropic',\n   'inputModalities': ['TEXT'],\n   'outputModalities': ['TEXT'],\n   'responseStreamingSupported': True,\n   'customizationsSupported': [],\n   'inferenceTypesSupported': ['ON_DEMAND']},\n  {'modelArn': 'arn:aws:bedrock:us-east-1::foundation-model/anthropic.claude-v2',\n   'modelId': 'anthropic.claude-v2',\n   'modelName': 'Claude',\n   'providerName': 'Anthropic',\n   'inputModalities': ['TEXT'],\n   'outputModalities': ['TEXT'],\n   'responseStreamingSupported': True,\n   'customizationsSupported': [],\n   'inferenceTypesSupported': ['ON_DEMAND']},\n  {'modelArn': 'arn:aws:bedrock:us-east-1::foundation-model/anthropic.claude-3-sonnet-20240229-v1:0',\n   'modelId': 'anthropic.claude-3-sonnet-20240229-v1:0',\n   'modelName': 'Claude 3 Sonnet',\n   'providerName': 'Anthropic',\n   'inputModalities': ['TEXT', 'IMAGE'],\n   'outputModalities': ['TEXT'],\n   'responseStreamingSupported': True,\n   'customizationsSupported': [],\n   'inferenceTypesSupported': ['ON_DEMAND']},\n  {'modelArn': 'arn:aws:bedrock:us-east-1::foundation-model/anthropic.claude-3-haiku-20240307-v1:0',\n   'modelId': 'anthropic.claude-3-haiku-20240307-v1:0',\n   'modelName': 'Claude 3 Haiku',\n   'providerName': 'Anthropic',\n   'inputModalities': ['TEXT', 'IMAGE'],\n   'outputModalities': ['TEXT'],\n   'responseStreamingSupported': True,\n   'customizationsSupported': [],\n   'inferenceTypesSupported': ['ON_DEMAND']},\n  {'modelArn': 'arn:aws:bedrock:us-east-1::foundation-model/cohere.command-text-v14:7:4k',\n   'modelId': 'cohere.command-text-v14:7:4k',\n   'modelName': 'Command',\n   'providerName': 'Cohere',\n   'inputModalities': ['TEXT'],\n   'outputModalities': ['TEXT'],\n   'responseStreamingSupported': True,\n   'customizationsSupported': ['FINE_TUNING'],\n   'inferenceTypesSupported': ['PROVISIONED']},\n  {'modelArn': 'arn:aws:bedrock:us-east-1::foundation-model/cohere.command-text-v14',\n   'modelId': 'cohere.command-text-v14',\n   'modelName': 'Command',\n   'providerName': 'Cohere',\n   'inputModalities': ['TEXT'],\n   'outputModalities': ['TEXT'],\n   'responseStreamingSupported': True,\n   'customizationsSupported': [],\n   'inferenceTypesSupported': ['ON_DEMAND']},\n  {'modelArn': 'arn:aws:bedrock:us-east-1::foundation-model/cohere.command-light-text-v14:7:4k',\n   'modelId': 'cohere.command-light-text-v14:7:4k',\n   'modelName': 'Command Light',\n   'providerName': 'Cohere',\n   'inputModalities': ['TEXT'],\n   'outputModalities': ['TEXT'],\n   'responseStreamingSupported': True,\n   'customizationsSupported': ['FINE_TUNING'],\n   'inferenceTypesSupported': ['PROVISIONED']},\n  {'modelArn': 'arn:aws:bedrock:us-east-1::foundation-model/cohere.command-light-text-v14',\n   'modelId': 'cohere.command-light-text-v14',\n   'modelName': 'Command Light',\n   'providerName': 'Cohere',\n   'inputModalities': ['TEXT'],\n   'outputModalities': ['TEXT'],\n   'responseStreamingSupported': True,\n   'customizationsSupported': [],\n   'inferenceTypesSupported': ['ON_DEMAND']},\n  {'modelArn': 'arn:aws:bedrock:us-east-1::foundation-model/cohere.embed-english-v3',\n   'modelId': 'cohere.embed-english-v3',\n   'modelName': 'Embed English',\n   'providerName': 'Cohere',\n   'inputModalities': ['TEXT'],\n   'outputModalities': ['EMBEDDING'],\n   'responseStreamingSupported': False,\n   'customizationsSupported': [],\n   'inferenceTypesSupported': ['ON_DEMAND']},\n  {'modelArn': 'arn:aws:bedrock:us-east-1::foundation-model/cohere.embed-multilingual-v3',\n   'modelId': 'cohere.embed-multilingual-v3',\n   'modelName': 'Embed Multilingual',\n   'providerName': 'Cohere',\n   'inputModalities': ['TEXT'],\n   'outputModalities': ['EMBEDDING'],\n   'responseStreamingSupported': False,\n   'customizationsSupported': [],\n   'inferenceTypesSupported': ['ON_DEMAND']},\n  {'modelArn': 'arn:aws:bedrock:us-east-1::foundation-model/meta.llama2-13b-chat-v1:0:4k',\n   'modelId': 'meta.llama2-13b-chat-v1:0:4k',\n   'modelName': 'Llama 2 Chat 13B',\n   'providerName': 'Meta',\n   'inputModalities': ['TEXT'],\n   'outputModalities': ['TEXT'],\n   'responseStreamingSupported': True,\n   'customizationsSupported': [],\n   'inferenceTypesSupported': ['PROVISIONED']},\n  {'modelArn': 'arn:aws:bedrock:us-east-1::foundation-model/meta.llama2-13b-chat-v1',\n   'modelId': 'meta.llama2-13b-chat-v1',\n   'modelName': 'Llama 2 Chat 13B',\n   'providerName': 'Meta',\n   'inputModalities': ['TEXT'],\n   'outputModalities': ['TEXT'],\n   'responseStreamingSupported': True,\n   'customizationsSupported': [],\n   'inferenceTypesSupported': ['ON_DEMAND']},\n  {'modelArn': 'arn:aws:bedrock:us-east-1::foundation-model/meta.llama2-70b-chat-v1:0:4k',\n   'modelId': 'meta.llama2-70b-chat-v1:0:4k',\n   'modelName': 'Llama 2 Chat 70B',\n   'providerName': 'Meta',\n   'inputModalities': ['TEXT'],\n   'outputModalities': ['TEXT'],\n   'responseStreamingSupported': True,\n   'customizationsSupported': [],\n   'inferenceTypesSupported': []},\n  {'modelArn': 'arn:aws:bedrock:us-east-1::foundation-model/meta.llama2-70b-chat-v1',\n   'modelId': 'meta.llama2-70b-chat-v1',\n   'modelName': 'Llama 2 Chat 70B',\n   'providerName': 'Meta',\n   'inputModalities': ['TEXT'],\n   'outputModalities': ['TEXT'],\n   'responseStreamingSupported': True,\n   'customizationsSupported': [],\n   'inferenceTypesSupported': ['ON_DEMAND']},\n  {'modelArn': 'arn:aws:bedrock:us-east-1::foundation-model/meta.llama2-13b-v1:0:4k',\n   'modelId': 'meta.llama2-13b-v1:0:4k',\n   'modelName': 'Llama 2 13B',\n   'providerName': 'Meta',\n   'inputModalities': ['TEXT'],\n   'outputModalities': ['TEXT'],\n   'responseStreamingSupported': True,\n   'customizationsSupported': ['FINE_TUNING'],\n   'inferenceTypesSupported': []},\n  {'modelArn': 'arn:aws:bedrock:us-east-1::foundation-model/meta.llama2-13b-v1',\n   'modelId': 'meta.llama2-13b-v1',\n   'modelName': 'Llama 2 13B',\n   'providerName': 'Meta',\n   'inputModalities': ['TEXT'],\n   'outputModalities': ['TEXT'],\n   'responseStreamingSupported': True,\n   'customizationsSupported': [],\n   'inferenceTypesSupported': []},\n  {'modelArn': 'arn:aws:bedrock:us-east-1::foundation-model/meta.llama2-70b-v1:0:4k',\n   'modelId': 'meta.llama2-70b-v1:0:4k',\n   'modelName': 'Llama 2 70B',\n   'providerName': 'Meta',\n   'inputModalities': ['TEXT'],\n   'outputModalities': ['TEXT'],\n   'responseStreamingSupported': True,\n   'customizationsSupported': ['FINE_TUNING'],\n   'inferenceTypesSupported': []},\n  {'modelArn': 'arn:aws:bedrock:us-east-1::foundation-model/meta.llama2-70b-v1',\n   'modelId': 'meta.llama2-70b-v1',\n   'modelName': 'Llama 2 70B',\n   'providerName': 'Meta',\n   'inputModalities': ['TEXT'],\n   'outputModalities': ['TEXT'],\n   'responseStreamingSupported': True,\n   'customizationsSupported': [],\n   'inferenceTypesSupported': []},\n  {'modelArn': 'arn:aws:bedrock:us-east-1::foundation-model/mistral.mistral-7b-instruct-v0:2',\n   'modelId': 'mistral.mistral-7b-instruct-v0:2',\n   'modelName': 'Mistral 7B Instruct',\n   'providerName': 'Mistral AI',\n   'inputModalities': ['TEXT'],\n   'outputModalities': ['TEXT'],\n   'responseStreamingSupported': True,\n   'customizationsSupported': [],\n   'inferenceTypesSupported': ['ON_DEMAND']},\n  {'modelArn': 'arn:aws:bedrock:us-east-1::foundation-model/mistral.mixtral-8x7b-instruct-v0:1',\n   'modelId': 'mistral.mixtral-8x7b-instruct-v0:1',\n   'modelName': 'Mixtral 8x7B Instruct',\n   'providerName': 'Mistral AI',\n   'inputModalities': ['TEXT'],\n   'outputModalities': ['TEXT'],\n   'responseStreamingSupported': True,\n   'customizationsSupported': [],\n   'inferenceTypesSupported': ['ON_DEMAND']}]}"
     },
     "execution_count": 36,
     "metadata": {},
     "output_type": "execute_result"
    }
   ],
   "source": [
    "bedrock.list_foundation_models()"
   ],
   "metadata": {
    "collapsed": false,
    "ExecuteTime": {
     "end_time": "2024-03-15T14:15:36.294116Z",
     "start_time": "2024-03-15T14:15:35.251927500Z"
    }
   },
   "id": "790d41f5b24e5d16",
   "execution_count": 36
  },
  {
   "cell_type": "code",
   "outputs": [
    {
     "data": {
      "text/plain": "dict_keys(['ResponseMetadata', 'modelSummaries'])"
     },
     "execution_count": 37,
     "metadata": {},
     "output_type": "execute_result"
    }
   ],
   "source": [
    "bedrock.list_foundation_models().keys()"
   ],
   "metadata": {
    "collapsed": false,
    "ExecuteTime": {
     "end_time": "2024-03-15T14:15:36.456199300Z",
     "start_time": "2024-03-15T14:15:36.298200900Z"
    }
   },
   "id": "a110c848a13b99b6",
   "execution_count": 37
  },
  {
   "cell_type": "code",
   "outputs": [
    {
     "data": {
      "text/plain": "[{'modelArn': 'arn:aws:bedrock:us-east-1::foundation-model/amazon.titan-tg1-large',\n  'modelId': 'amazon.titan-tg1-large',\n  'modelName': 'Titan Text Large',\n  'providerName': 'Amazon',\n  'inputModalities': ['TEXT'],\n  'outputModalities': ['TEXT'],\n  'responseStreamingSupported': True,\n  'customizationsSupported': [],\n  'inferenceTypesSupported': ['ON_DEMAND']},\n {'modelArn': 'arn:aws:bedrock:us-east-1::foundation-model/amazon.titan-image-generator-v1:0',\n  'modelId': 'amazon.titan-image-generator-v1:0',\n  'modelName': 'Titan Image Generator G1',\n  'providerName': 'Amazon',\n  'inputModalities': ['TEXT', 'IMAGE'],\n  'outputModalities': ['IMAGE'],\n  'customizationsSupported': ['FINE_TUNING'],\n  'inferenceTypesSupported': ['PROVISIONED']},\n {'modelArn': 'arn:aws:bedrock:us-east-1::foundation-model/amazon.titan-image-generator-v1',\n  'modelId': 'amazon.titan-image-generator-v1',\n  'modelName': 'Titan Image Generator G1',\n  'providerName': 'Amazon',\n  'inputModalities': ['TEXT', 'IMAGE'],\n  'outputModalities': ['IMAGE'],\n  'customizationsSupported': [],\n  'inferenceTypesSupported': ['ON_DEMAND']},\n {'modelArn': 'arn:aws:bedrock:us-east-1::foundation-model/amazon.titan-embed-g1-text-02',\n  'modelId': 'amazon.titan-embed-g1-text-02',\n  'modelName': 'Titan Text Embeddings v2',\n  'providerName': 'Amazon',\n  'inputModalities': ['TEXT'],\n  'outputModalities': ['EMBEDDING'],\n  'customizationsSupported': [],\n  'inferenceTypesSupported': ['ON_DEMAND']},\n {'modelArn': 'arn:aws:bedrock:us-east-1::foundation-model/amazon.titan-text-lite-v1:0:4k',\n  'modelId': 'amazon.titan-text-lite-v1:0:4k',\n  'modelName': 'Titan Text G1 - Lite',\n  'providerName': 'Amazon',\n  'inputModalities': ['TEXT'],\n  'outputModalities': ['TEXT'],\n  'responseStreamingSupported': True,\n  'customizationsSupported': ['FINE_TUNING', 'CONTINUED_PRE_TRAINING'],\n  'inferenceTypesSupported': ['PROVISIONED']},\n {'modelArn': 'arn:aws:bedrock:us-east-1::foundation-model/amazon.titan-text-lite-v1',\n  'modelId': 'amazon.titan-text-lite-v1',\n  'modelName': 'Titan Text G1 - Lite',\n  'providerName': 'Amazon',\n  'inputModalities': ['TEXT'],\n  'outputModalities': ['TEXT'],\n  'responseStreamingSupported': True,\n  'customizationsSupported': [],\n  'inferenceTypesSupported': ['ON_DEMAND']},\n {'modelArn': 'arn:aws:bedrock:us-east-1::foundation-model/amazon.titan-text-express-v1:0:8k',\n  'modelId': 'amazon.titan-text-express-v1:0:8k',\n  'modelName': 'Titan Text G1 - Express',\n  'providerName': 'Amazon',\n  'inputModalities': ['TEXT'],\n  'outputModalities': ['TEXT'],\n  'responseStreamingSupported': True,\n  'customizationsSupported': ['FINE_TUNING', 'CONTINUED_PRE_TRAINING'],\n  'inferenceTypesSupported': ['PROVISIONED']},\n {'modelArn': 'arn:aws:bedrock:us-east-1::foundation-model/amazon.titan-text-express-v1',\n  'modelId': 'amazon.titan-text-express-v1',\n  'modelName': 'Titan Text G1 - Express',\n  'providerName': 'Amazon',\n  'inputModalities': ['TEXT'],\n  'outputModalities': ['TEXT'],\n  'responseStreamingSupported': True,\n  'customizationsSupported': [],\n  'inferenceTypesSupported': ['ON_DEMAND']},\n {'modelArn': 'arn:aws:bedrock:us-east-1::foundation-model/amazon.titan-embed-text-v1:2:8k',\n  'modelId': 'amazon.titan-embed-text-v1:2:8k',\n  'modelName': 'Titan Embeddings G1 - Text',\n  'providerName': 'Amazon',\n  'inputModalities': ['TEXT'],\n  'outputModalities': ['EMBEDDING'],\n  'responseStreamingSupported': False,\n  'customizationsSupported': [],\n  'inferenceTypesSupported': ['PROVISIONED']},\n {'modelArn': 'arn:aws:bedrock:us-east-1::foundation-model/amazon.titan-embed-text-v1',\n  'modelId': 'amazon.titan-embed-text-v1',\n  'modelName': 'Titan Embeddings G1 - Text',\n  'providerName': 'Amazon',\n  'inputModalities': ['TEXT'],\n  'outputModalities': ['EMBEDDING'],\n  'responseStreamingSupported': False,\n  'customizationsSupported': [],\n  'inferenceTypesSupported': ['ON_DEMAND']},\n {'modelArn': 'arn:aws:bedrock:us-east-1::foundation-model/amazon.titan-embed-image-v1:0',\n  'modelId': 'amazon.titan-embed-image-v1:0',\n  'modelName': 'Titan Multimodal Embeddings G1',\n  'providerName': 'Amazon',\n  'inputModalities': ['TEXT', 'IMAGE'],\n  'outputModalities': ['EMBEDDING'],\n  'customizationsSupported': ['FINE_TUNING'],\n  'inferenceTypesSupported': ['PROVISIONED']},\n {'modelArn': 'arn:aws:bedrock:us-east-1::foundation-model/amazon.titan-embed-image-v1',\n  'modelId': 'amazon.titan-embed-image-v1',\n  'modelName': 'Titan Multimodal Embeddings G1',\n  'providerName': 'Amazon',\n  'inputModalities': ['TEXT', 'IMAGE'],\n  'outputModalities': ['EMBEDDING'],\n  'customizationsSupported': [],\n  'inferenceTypesSupported': ['ON_DEMAND']},\n {'modelArn': 'arn:aws:bedrock:us-east-1::foundation-model/stability.stable-diffusion-xl',\n  'modelId': 'stability.stable-diffusion-xl',\n  'modelName': 'SDXL 0.8',\n  'providerName': 'Stability AI',\n  'inputModalities': ['TEXT', 'IMAGE'],\n  'outputModalities': ['IMAGE'],\n  'customizationsSupported': [],\n  'inferenceTypesSupported': ['ON_DEMAND']},\n {'modelArn': 'arn:aws:bedrock:us-east-1::foundation-model/stability.stable-diffusion-xl-v0',\n  'modelId': 'stability.stable-diffusion-xl-v0',\n  'modelName': 'SDXL 0.8',\n  'providerName': 'Stability AI',\n  'inputModalities': ['TEXT', 'IMAGE'],\n  'outputModalities': ['IMAGE'],\n  'customizationsSupported': [],\n  'inferenceTypesSupported': ['ON_DEMAND']},\n {'modelArn': 'arn:aws:bedrock:us-east-1::foundation-model/stability.stable-diffusion-xl-v1:0',\n  'modelId': 'stability.stable-diffusion-xl-v1:0',\n  'modelName': 'SDXL 1.0',\n  'providerName': 'Stability AI',\n  'inputModalities': ['TEXT', 'IMAGE'],\n  'outputModalities': ['IMAGE'],\n  'customizationsSupported': [],\n  'inferenceTypesSupported': ['PROVISIONED']},\n {'modelArn': 'arn:aws:bedrock:us-east-1::foundation-model/stability.stable-diffusion-xl-v1',\n  'modelId': 'stability.stable-diffusion-xl-v1',\n  'modelName': 'SDXL 1.0',\n  'providerName': 'Stability AI',\n  'inputModalities': ['TEXT', 'IMAGE'],\n  'outputModalities': ['IMAGE'],\n  'customizationsSupported': [],\n  'inferenceTypesSupported': ['ON_DEMAND']},\n {'modelArn': 'arn:aws:bedrock:us-east-1::foundation-model/ai21.j2-grande-instruct',\n  'modelId': 'ai21.j2-grande-instruct',\n  'modelName': 'J2 Grande Instruct',\n  'providerName': 'AI21 Labs',\n  'inputModalities': ['TEXT'],\n  'outputModalities': ['TEXT'],\n  'responseStreamingSupported': False,\n  'customizationsSupported': [],\n  'inferenceTypesSupported': ['ON_DEMAND']},\n {'modelArn': 'arn:aws:bedrock:us-east-1::foundation-model/ai21.j2-jumbo-instruct',\n  'modelId': 'ai21.j2-jumbo-instruct',\n  'modelName': 'J2 Jumbo Instruct',\n  'providerName': 'AI21 Labs',\n  'inputModalities': ['TEXT'],\n  'outputModalities': ['TEXT'],\n  'responseStreamingSupported': False,\n  'customizationsSupported': [],\n  'inferenceTypesSupported': ['ON_DEMAND']},\n {'modelArn': 'arn:aws:bedrock:us-east-1::foundation-model/ai21.j2-mid',\n  'modelId': 'ai21.j2-mid',\n  'modelName': 'Jurassic-2 Mid',\n  'providerName': 'AI21 Labs',\n  'inputModalities': ['TEXT'],\n  'outputModalities': ['TEXT'],\n  'responseStreamingSupported': False,\n  'customizationsSupported': [],\n  'inferenceTypesSupported': ['ON_DEMAND']},\n {'modelArn': 'arn:aws:bedrock:us-east-1::foundation-model/ai21.j2-mid-v1',\n  'modelId': 'ai21.j2-mid-v1',\n  'modelName': 'Jurassic-2 Mid',\n  'providerName': 'AI21 Labs',\n  'inputModalities': ['TEXT'],\n  'outputModalities': ['TEXT'],\n  'responseStreamingSupported': False,\n  'customizationsSupported': [],\n  'inferenceTypesSupported': ['ON_DEMAND']},\n {'modelArn': 'arn:aws:bedrock:us-east-1::foundation-model/ai21.j2-ultra',\n  'modelId': 'ai21.j2-ultra',\n  'modelName': 'Jurassic-2 Ultra',\n  'providerName': 'AI21 Labs',\n  'inputModalities': ['TEXT'],\n  'outputModalities': ['TEXT'],\n  'responseStreamingSupported': False,\n  'customizationsSupported': [],\n  'inferenceTypesSupported': ['ON_DEMAND']},\n {'modelArn': 'arn:aws:bedrock:us-east-1::foundation-model/ai21.j2-ultra-v1',\n  'modelId': 'ai21.j2-ultra-v1',\n  'modelName': 'Jurassic-2 Ultra',\n  'providerName': 'AI21 Labs',\n  'inputModalities': ['TEXT'],\n  'outputModalities': ['TEXT'],\n  'responseStreamingSupported': False,\n  'customizationsSupported': [],\n  'inferenceTypesSupported': ['ON_DEMAND']},\n {'modelArn': 'arn:aws:bedrock:us-east-1::foundation-model/anthropic.claude-instant-v1:2:100k',\n  'modelId': 'anthropic.claude-instant-v1:2:100k',\n  'modelName': 'Claude Instant',\n  'providerName': 'Anthropic',\n  'inputModalities': ['TEXT'],\n  'outputModalities': ['TEXT'],\n  'responseStreamingSupported': True,\n  'customizationsSupported': [],\n  'inferenceTypesSupported': ['PROVISIONED']},\n {'modelArn': 'arn:aws:bedrock:us-east-1::foundation-model/anthropic.claude-instant-v1',\n  'modelId': 'anthropic.claude-instant-v1',\n  'modelName': 'Claude Instant',\n  'providerName': 'Anthropic',\n  'inputModalities': ['TEXT'],\n  'outputModalities': ['TEXT'],\n  'responseStreamingSupported': True,\n  'customizationsSupported': [],\n  'inferenceTypesSupported': ['ON_DEMAND']},\n {'modelArn': 'arn:aws:bedrock:us-east-1::foundation-model/anthropic.claude-v2:0:18k',\n  'modelId': 'anthropic.claude-v2:0:18k',\n  'modelName': 'Claude',\n  'providerName': 'Anthropic',\n  'inputModalities': ['TEXT'],\n  'outputModalities': ['TEXT'],\n  'responseStreamingSupported': True,\n  'customizationsSupported': [],\n  'inferenceTypesSupported': ['PROVISIONED']},\n {'modelArn': 'arn:aws:bedrock:us-east-1::foundation-model/anthropic.claude-v2:0:100k',\n  'modelId': 'anthropic.claude-v2:0:100k',\n  'modelName': 'Claude',\n  'providerName': 'Anthropic',\n  'inputModalities': ['TEXT'],\n  'outputModalities': ['TEXT'],\n  'responseStreamingSupported': True,\n  'customizationsSupported': [],\n  'inferenceTypesSupported': ['PROVISIONED']},\n {'modelArn': 'arn:aws:bedrock:us-east-1::foundation-model/anthropic.claude-v2:1:18k',\n  'modelId': 'anthropic.claude-v2:1:18k',\n  'modelName': 'Claude',\n  'providerName': 'Anthropic',\n  'inputModalities': ['TEXT'],\n  'outputModalities': ['TEXT'],\n  'responseStreamingSupported': True,\n  'customizationsSupported': [],\n  'inferenceTypesSupported': ['PROVISIONED']},\n {'modelArn': 'arn:aws:bedrock:us-east-1::foundation-model/anthropic.claude-v2:1:200k',\n  'modelId': 'anthropic.claude-v2:1:200k',\n  'modelName': 'Claude',\n  'providerName': 'Anthropic',\n  'inputModalities': ['TEXT'],\n  'outputModalities': ['TEXT'],\n  'responseStreamingSupported': True,\n  'customizationsSupported': [],\n  'inferenceTypesSupported': ['PROVISIONED']},\n {'modelArn': 'arn:aws:bedrock:us-east-1::foundation-model/anthropic.claude-v2:1',\n  'modelId': 'anthropic.claude-v2:1',\n  'modelName': 'Claude',\n  'providerName': 'Anthropic',\n  'inputModalities': ['TEXT'],\n  'outputModalities': ['TEXT'],\n  'responseStreamingSupported': True,\n  'customizationsSupported': [],\n  'inferenceTypesSupported': ['ON_DEMAND']},\n {'modelArn': 'arn:aws:bedrock:us-east-1::foundation-model/anthropic.claude-v2',\n  'modelId': 'anthropic.claude-v2',\n  'modelName': 'Claude',\n  'providerName': 'Anthropic',\n  'inputModalities': ['TEXT'],\n  'outputModalities': ['TEXT'],\n  'responseStreamingSupported': True,\n  'customizationsSupported': [],\n  'inferenceTypesSupported': ['ON_DEMAND']},\n {'modelArn': 'arn:aws:bedrock:us-east-1::foundation-model/anthropic.claude-3-sonnet-20240229-v1:0',\n  'modelId': 'anthropic.claude-3-sonnet-20240229-v1:0',\n  'modelName': 'Claude 3 Sonnet',\n  'providerName': 'Anthropic',\n  'inputModalities': ['TEXT', 'IMAGE'],\n  'outputModalities': ['TEXT'],\n  'responseStreamingSupported': True,\n  'customizationsSupported': [],\n  'inferenceTypesSupported': ['ON_DEMAND']},\n {'modelArn': 'arn:aws:bedrock:us-east-1::foundation-model/anthropic.claude-3-haiku-20240307-v1:0',\n  'modelId': 'anthropic.claude-3-haiku-20240307-v1:0',\n  'modelName': 'Claude 3 Haiku',\n  'providerName': 'Anthropic',\n  'inputModalities': ['TEXT', 'IMAGE'],\n  'outputModalities': ['TEXT'],\n  'responseStreamingSupported': True,\n  'customizationsSupported': [],\n  'inferenceTypesSupported': ['ON_DEMAND']},\n {'modelArn': 'arn:aws:bedrock:us-east-1::foundation-model/cohere.command-text-v14:7:4k',\n  'modelId': 'cohere.command-text-v14:7:4k',\n  'modelName': 'Command',\n  'providerName': 'Cohere',\n  'inputModalities': ['TEXT'],\n  'outputModalities': ['TEXT'],\n  'responseStreamingSupported': True,\n  'customizationsSupported': ['FINE_TUNING'],\n  'inferenceTypesSupported': ['PROVISIONED']},\n {'modelArn': 'arn:aws:bedrock:us-east-1::foundation-model/cohere.command-text-v14',\n  'modelId': 'cohere.command-text-v14',\n  'modelName': 'Command',\n  'providerName': 'Cohere',\n  'inputModalities': ['TEXT'],\n  'outputModalities': ['TEXT'],\n  'responseStreamingSupported': True,\n  'customizationsSupported': [],\n  'inferenceTypesSupported': ['ON_DEMAND']},\n {'modelArn': 'arn:aws:bedrock:us-east-1::foundation-model/cohere.command-light-text-v14:7:4k',\n  'modelId': 'cohere.command-light-text-v14:7:4k',\n  'modelName': 'Command Light',\n  'providerName': 'Cohere',\n  'inputModalities': ['TEXT'],\n  'outputModalities': ['TEXT'],\n  'responseStreamingSupported': True,\n  'customizationsSupported': ['FINE_TUNING'],\n  'inferenceTypesSupported': ['PROVISIONED']},\n {'modelArn': 'arn:aws:bedrock:us-east-1::foundation-model/cohere.command-light-text-v14',\n  'modelId': 'cohere.command-light-text-v14',\n  'modelName': 'Command Light',\n  'providerName': 'Cohere',\n  'inputModalities': ['TEXT'],\n  'outputModalities': ['TEXT'],\n  'responseStreamingSupported': True,\n  'customizationsSupported': [],\n  'inferenceTypesSupported': ['ON_DEMAND']},\n {'modelArn': 'arn:aws:bedrock:us-east-1::foundation-model/cohere.embed-english-v3',\n  'modelId': 'cohere.embed-english-v3',\n  'modelName': 'Embed English',\n  'providerName': 'Cohere',\n  'inputModalities': ['TEXT'],\n  'outputModalities': ['EMBEDDING'],\n  'responseStreamingSupported': False,\n  'customizationsSupported': [],\n  'inferenceTypesSupported': ['ON_DEMAND']},\n {'modelArn': 'arn:aws:bedrock:us-east-1::foundation-model/cohere.embed-multilingual-v3',\n  'modelId': 'cohere.embed-multilingual-v3',\n  'modelName': 'Embed Multilingual',\n  'providerName': 'Cohere',\n  'inputModalities': ['TEXT'],\n  'outputModalities': ['EMBEDDING'],\n  'responseStreamingSupported': False,\n  'customizationsSupported': [],\n  'inferenceTypesSupported': ['ON_DEMAND']},\n {'modelArn': 'arn:aws:bedrock:us-east-1::foundation-model/meta.llama2-13b-chat-v1:0:4k',\n  'modelId': 'meta.llama2-13b-chat-v1:0:4k',\n  'modelName': 'Llama 2 Chat 13B',\n  'providerName': 'Meta',\n  'inputModalities': ['TEXT'],\n  'outputModalities': ['TEXT'],\n  'responseStreamingSupported': True,\n  'customizationsSupported': [],\n  'inferenceTypesSupported': ['PROVISIONED']},\n {'modelArn': 'arn:aws:bedrock:us-east-1::foundation-model/meta.llama2-13b-chat-v1',\n  'modelId': 'meta.llama2-13b-chat-v1',\n  'modelName': 'Llama 2 Chat 13B',\n  'providerName': 'Meta',\n  'inputModalities': ['TEXT'],\n  'outputModalities': ['TEXT'],\n  'responseStreamingSupported': True,\n  'customizationsSupported': [],\n  'inferenceTypesSupported': ['ON_DEMAND']},\n {'modelArn': 'arn:aws:bedrock:us-east-1::foundation-model/meta.llama2-70b-chat-v1:0:4k',\n  'modelId': 'meta.llama2-70b-chat-v1:0:4k',\n  'modelName': 'Llama 2 Chat 70B',\n  'providerName': 'Meta',\n  'inputModalities': ['TEXT'],\n  'outputModalities': ['TEXT'],\n  'responseStreamingSupported': True,\n  'customizationsSupported': [],\n  'inferenceTypesSupported': []},\n {'modelArn': 'arn:aws:bedrock:us-east-1::foundation-model/meta.llama2-70b-chat-v1',\n  'modelId': 'meta.llama2-70b-chat-v1',\n  'modelName': 'Llama 2 Chat 70B',\n  'providerName': 'Meta',\n  'inputModalities': ['TEXT'],\n  'outputModalities': ['TEXT'],\n  'responseStreamingSupported': True,\n  'customizationsSupported': [],\n  'inferenceTypesSupported': ['ON_DEMAND']},\n {'modelArn': 'arn:aws:bedrock:us-east-1::foundation-model/meta.llama2-13b-v1:0:4k',\n  'modelId': 'meta.llama2-13b-v1:0:4k',\n  'modelName': 'Llama 2 13B',\n  'providerName': 'Meta',\n  'inputModalities': ['TEXT'],\n  'outputModalities': ['TEXT'],\n  'responseStreamingSupported': True,\n  'customizationsSupported': ['FINE_TUNING'],\n  'inferenceTypesSupported': []},\n {'modelArn': 'arn:aws:bedrock:us-east-1::foundation-model/meta.llama2-13b-v1',\n  'modelId': 'meta.llama2-13b-v1',\n  'modelName': 'Llama 2 13B',\n  'providerName': 'Meta',\n  'inputModalities': ['TEXT'],\n  'outputModalities': ['TEXT'],\n  'responseStreamingSupported': True,\n  'customizationsSupported': [],\n  'inferenceTypesSupported': []},\n {'modelArn': 'arn:aws:bedrock:us-east-1::foundation-model/meta.llama2-70b-v1:0:4k',\n  'modelId': 'meta.llama2-70b-v1:0:4k',\n  'modelName': 'Llama 2 70B',\n  'providerName': 'Meta',\n  'inputModalities': ['TEXT'],\n  'outputModalities': ['TEXT'],\n  'responseStreamingSupported': True,\n  'customizationsSupported': ['FINE_TUNING'],\n  'inferenceTypesSupported': []},\n {'modelArn': 'arn:aws:bedrock:us-east-1::foundation-model/meta.llama2-70b-v1',\n  'modelId': 'meta.llama2-70b-v1',\n  'modelName': 'Llama 2 70B',\n  'providerName': 'Meta',\n  'inputModalities': ['TEXT'],\n  'outputModalities': ['TEXT'],\n  'responseStreamingSupported': True,\n  'customizationsSupported': [],\n  'inferenceTypesSupported': []},\n {'modelArn': 'arn:aws:bedrock:us-east-1::foundation-model/mistral.mistral-7b-instruct-v0:2',\n  'modelId': 'mistral.mistral-7b-instruct-v0:2',\n  'modelName': 'Mistral 7B Instruct',\n  'providerName': 'Mistral AI',\n  'inputModalities': ['TEXT'],\n  'outputModalities': ['TEXT'],\n  'responseStreamingSupported': True,\n  'customizationsSupported': [],\n  'inferenceTypesSupported': ['ON_DEMAND']},\n {'modelArn': 'arn:aws:bedrock:us-east-1::foundation-model/mistral.mixtral-8x7b-instruct-v0:1',\n  'modelId': 'mistral.mixtral-8x7b-instruct-v0:1',\n  'modelName': 'Mixtral 8x7B Instruct',\n  'providerName': 'Mistral AI',\n  'inputModalities': ['TEXT'],\n  'outputModalities': ['TEXT'],\n  'responseStreamingSupported': True,\n  'customizationsSupported': [],\n  'inferenceTypesSupported': ['ON_DEMAND']}]"
     },
     "execution_count": 38,
     "metadata": {},
     "output_type": "execute_result"
    }
   ],
   "source": [
    "bedrock.list_foundation_models()['modelSummaries']"
   ],
   "metadata": {
    "collapsed": false,
    "ExecuteTime": {
     "end_time": "2024-03-15T14:15:36.615665900Z",
     "start_time": "2024-03-15T14:15:36.451204500Z"
    }
   },
   "id": "8f873ec350fa90d2",
   "execution_count": 38
  },
  {
   "cell_type": "code",
   "outputs": [
    {
     "data": {
      "text/plain": "48"
     },
     "execution_count": 39,
     "metadata": {},
     "output_type": "execute_result"
    }
   ],
   "source": [
    "len(bedrock.list_foundation_models()['modelSummaries'])"
   ],
   "metadata": {
    "collapsed": false,
    "ExecuteTime": {
     "end_time": "2024-03-15T14:15:36.777202200Z",
     "start_time": "2024-03-15T14:15:36.618668400Z"
    }
   },
   "id": "40a7cfb0a08bc519",
   "execution_count": 39
  },
  {
   "cell_type": "code",
   "outputs": [
    {
     "data": {
      "text/plain": "['amazon.titan-tg1-large',\n 'amazon.titan-image-generator-v1:0',\n 'amazon.titan-image-generator-v1',\n 'amazon.titan-embed-g1-text-02',\n 'amazon.titan-text-lite-v1:0:4k',\n 'amazon.titan-text-lite-v1',\n 'amazon.titan-text-express-v1:0:8k',\n 'amazon.titan-text-express-v1',\n 'amazon.titan-embed-text-v1:2:8k',\n 'amazon.titan-embed-text-v1',\n 'amazon.titan-embed-image-v1:0',\n 'amazon.titan-embed-image-v1',\n 'stability.stable-diffusion-xl',\n 'stability.stable-diffusion-xl-v0',\n 'stability.stable-diffusion-xl-v1:0',\n 'stability.stable-diffusion-xl-v1',\n 'ai21.j2-grande-instruct',\n 'ai21.j2-jumbo-instruct',\n 'ai21.j2-mid',\n 'ai21.j2-mid-v1',\n 'ai21.j2-ultra',\n 'ai21.j2-ultra-v1',\n 'anthropic.claude-instant-v1:2:100k',\n 'anthropic.claude-instant-v1',\n 'anthropic.claude-v2:0:18k',\n 'anthropic.claude-v2:0:100k',\n 'anthropic.claude-v2:1:18k',\n 'anthropic.claude-v2:1:200k',\n 'anthropic.claude-v2:1',\n 'anthropic.claude-v2',\n 'anthropic.claude-3-sonnet-20240229-v1:0',\n 'anthropic.claude-3-haiku-20240307-v1:0',\n 'cohere.command-text-v14:7:4k',\n 'cohere.command-text-v14',\n 'cohere.command-light-text-v14:7:4k',\n 'cohere.command-light-text-v14',\n 'cohere.embed-english-v3',\n 'cohere.embed-multilingual-v3',\n 'meta.llama2-13b-chat-v1:0:4k',\n 'meta.llama2-13b-chat-v1',\n 'meta.llama2-70b-chat-v1:0:4k',\n 'meta.llama2-70b-chat-v1',\n 'meta.llama2-13b-v1:0:4k',\n 'meta.llama2-13b-v1',\n 'meta.llama2-70b-v1:0:4k',\n 'meta.llama2-70b-v1',\n 'mistral.mistral-7b-instruct-v0:2',\n 'mistral.mixtral-8x7b-instruct-v0:1']"
     },
     "execution_count": 40,
     "metadata": {},
     "output_type": "execute_result"
    }
   ],
   "source": [
    "# for model in bedrock.list_foundation_models()['modelSummaries']:\n",
    "#     print(model['modelId'])\n",
    "[model['modelId'] for model in bedrock.list_foundation_models()['modelSummaries']]"
   ],
   "metadata": {
    "collapsed": false,
    "ExecuteTime": {
     "end_time": "2024-03-15T14:15:36.932418900Z",
     "start_time": "2024-03-15T14:15:36.775198200Z"
    }
   },
   "id": "34373338761f855d",
   "execution_count": 40
  },
  {
   "cell_type": "code",
   "execution_count": 41,
   "id": "2192b4aa-ebd9-4ddf-b1ef-e7c7d0672ed2",
   "metadata": {
    "ExecuteTime": {
     "end_time": "2024-03-15T14:15:37.096867200Z",
     "start_time": "2024-03-15T14:15:36.947044500Z"
    }
   },
   "outputs": [
    {
     "data": {
      "text/plain": "{'ResponseMetadata': {'RequestId': 'ce78fc57-c451-4d13-93dd-570e3666a062',\n  'HTTPStatusCode': 200,\n  'HTTPHeaders': {'date': 'Fri, 15 Mar 2024 14:15:37 GMT',\n   'content-type': 'application/json',\n   'content-length': '402',\n   'connection': 'keep-alive',\n   'x-amzn-requestid': 'ce78fc57-c451-4d13-93dd-570e3666a062'},\n  'RetryAttempts': 0},\n 'modelDetails': {'modelArn': 'arn:aws:bedrock:us-east-1::foundation-model/amazon.titan-text-express-v1',\n  'modelId': 'amazon.titan-text-express-v1',\n  'modelName': 'Titan Text G1 - Express',\n  'providerName': 'Amazon',\n  'inputModalities': ['TEXT'],\n  'outputModalities': ['TEXT'],\n  'responseStreamingSupported': True,\n  'customizationsSupported': [],\n  'inferenceTypesSupported': ['ON_DEMAND']}}"
     },
     "execution_count": 41,
     "metadata": {},
     "output_type": "execute_result"
    }
   ],
   "source": [
    "bedrock.get_foundation_model(modelIdentifier='amazon.titan-text-express-v1')\n"
   ]
  },
  {
   "cell_type": "markdown",
   "id": "59dbb5a8-fe67-451b-8e50-8b8974ef132a",
   "metadata": {},
   "source": [
    "## Text Completion\n",
    "\n",
    "The first task is to perform text completion. Text completion is an AI-driven process where the system automatically completes sentences or paragraphs based on a given text prompt.\n",
    "\n",
    "### How Text Completion Works in AWS Bedrock\n",
    "\n",
    "1. **Provide a Prompt**: Start by providing an initial text prompt. This could be a sentence, a question, or even a few words. The prompt should be relevant to the context of the completion you need.\n",
    "\n",
    "2. **Configure the API**: Use the AWS Bedrock API to send the prompt. You may need to configure parameters such as the length of completion, the style of writing, or any specific instructions you want the AI to follow.\n",
    "\n",
    "3. **Receive the Completion**: The AWS Bedrock service processes the prompt and returns a text completion. This completion is generated in real-time and aims to be a natural extension of the input prompt.\n",
    "\n",
    "4. **Refinement and Iteration**: Depending on your needs, you might refine the initial prompt or adjust the parameters for different results. Iteration can help tailor the output to better suit your requirements.\n",
    "\n",
    "### Examples of Text Completion\n",
    "\n",
    "Here are a few examples of text completion tasks that can be accomplished with AWS Bedrock:\n",
    "\n",
    "- **Creative Writing**: Given the start of a story, AWS Bedrock can continue the narrative, maintaining the tone and style of the original text.\n",
    "\n",
    "- **Email Drafting**: For business communications, provide a brief outline or key points, and AWS Bedrock can formulate a complete, professional email.\n",
    "\n",
    "- **Code Suggestions**: When programming, input a part of the code, and the service can suggest logical code completions or bug fixes.\n",
    "\n",
    "- **Language Translation**: Begin with a sentence in one language, and AWS Bedrock can complete the translation, ensuring linguistic and contextual accuracy.\n",
    "\n",
    "### Best Practices\n",
    "\n",
    "To get the most out of text completion with AWS Bedrock:\n",
    "\n",
    "- **Provide Clear and Contextual Prompts**: The quality of the output is largely dependent on the input. Clear and contextual prompts yield better results.\n",
    "\n",
    "- **Iterative Approach**: Experiment with different prompts and settings. Iterative refinement can significantly enhance the outcome.\n",
    "\n",
    "- **Understand Limitations**: While powerful, generative AI models have limitations. Be aware of these and review outputs critically, especially for sensitive or critical applications.\n",
    "\n",
    "Let's get started by asking an absolute trivial question!"
   ]
  },
  {
   "cell_type": "markdown",
   "id": "e46c9464-277c-4854-982d-5973f2a3554e",
   "metadata": {},
   "source": [
    "## Titan API Call\n",
    "To invoke the model, we need to access the **bedrock-runtime** [service](https://boto3.amazonaws.com/v1/documentation/api/latest/reference/services/bedrock-runtime.html)\n"
   ]
  },
  {
   "cell_type": "code",
   "execution_count": 42,
   "id": "5ed05f58-d874-4757-9022-ed8bfa359853",
   "metadata": {
    "ExecuteTime": {
     "end_time": "2024-03-15T14:15:37.145116900Z",
     "start_time": "2024-03-15T14:15:37.101868300Z"
    }
   },
   "outputs": [],
   "source": [
    "bedrock_runtime = boto3.client(service_name=\"bedrock-runtime\",\n",
    "                               region_name=\"us-east-1\",\n",
    "                               **credentials\n",
    "                               )\n"
   ]
  },
  {
   "cell_type": "markdown",
   "id": "62d236d9-9122-4ca6-a668-74e296816153",
   "metadata": {},
   "source": [
    "It provides the [invoke_model](https://boto3.amazonaws.com/v1/documentation/api/latest/reference/services/bedrock-runtime/client/invoke_model.html) function to run inference.\n",
    "\n",
    "To use this function, we need to provide at least the following arguments:\n",
    "\n",
    "- body\n",
    "- modelId\n",
    "\n",
    "The request body looks diffrerent depending on the model you use. The parameters are listed [here](https://docs.aws.amazon.com/bedrock/latest/userguide/model-parameters.html)."
   ]
  },
  {
   "cell_type": "markdown",
   "id": "4e50c229-854e-4035-9180-cedcbfd2150c",
   "metadata": {},
   "source": [
    "### Titan Express Parameters\n",
    "AWS' titan text models accept the following parameters:\n",
    "\n",
    "- `inputText` [required]: string\n",
    "  - Input text (prompt)\n",
    "- `textGenerationConfig`[optional]:\n",
    "  - Configuration settings for text generation.\n",
    "  - `temperature`: float\n",
    "    - This controls the randomness in the text generation process. A higher temperature results in more random outputs, while a lower temperature produces more predictable text.\n",
    "  - `topP`: float\n",
    "    - This parameter, also known as \"nucleus sampling,\" controls the diversity of the generated text. It sets a threshold to include the most likely next words, cumulatively adding up to the specified probability 'P'. A lower value ignores less probable options.\n",
    "  - `maxTokenCount`: int\n",
    "    - This specifies the maximum number of tokens that the generated text can contain.\n",
    "  - `stopSequences`: [string]\n",
    "    - An array of string sequences that, when detected, will prompt the text generation to stop. This is useful for defining specific endpoints in generated text. \"Use the | (pipe) character to separate different sequences (maximum 20 characters).\"\n",
    "   \n",
    "Thus, the Titan model expects the following jsonified request body:\n",
    "```\n",
    "{\n",
    "    \"inputText\": string,\n",
    "    \"textGenerationConfig\": {\n",
    "        \"temperature\": float,  \n",
    "        \"topP\": float,\n",
    "        \"maxTokenCount\": int,\n",
    "        \"stopSequences\": [string]\n",
    "    }\n",
    "}\n",
    "```\n",
    "\n",
    "Note you can always use the default values for the textGenerationConfig\n",
    "\n",
    "\n",
    "| Category              | Parameter        | JSON field format | Minimum | Maximum | Default |\n",
    "|-----------------------|------------------|-------------------|---------|---------|---------|\n",
    "| Randomness and diversity | Temperature     | `temperature`     | 0       | 1       | 0       |\n",
    "|                       | Top P            | `topP`            | 0       | 1       | 1       |\n",
    "| Length                | Response length  | `maxTokenCount`   | 0       | 8000    | 512     |\n",
    "\n"
   ]
  },
  {
   "cell_type": "markdown",
   "id": "0b0035a8-faf5-40ff-8c75-9cd38f129f8a",
   "metadata": {},
   "source": [
    "Alright! After all this information, let's send the first request to Titan using the default values! "
   ]
  },
  {
   "cell_type": "code",
   "execution_count": 43,
   "id": "110c05c0-364d-4a55-8884-02c3127e7007",
   "metadata": {
    "ExecuteTime": {
     "end_time": "2024-03-15T14:15:37.146116700Z",
     "start_time": "2024-03-15T14:15:37.117040300Z"
    }
   },
   "outputs": [
    {
     "name": "stdout",
     "output_type": "stream",
     "text": [
      "{\"inputText\": \"What is AWS Bedrock?\"}\n"
     ]
    }
   ],
   "source": [
    "import json\n",
    "\n",
    "question = \"What is AWS Bedrock?\"\n",
    "\n",
    "body = json.dumps({\n",
    "    \"inputText\": question,\n",
    "})\n",
    "print(body)"
   ]
  },
  {
   "cell_type": "code",
   "execution_count": 44,
   "id": "a491c0c1-10fa-4bac-9c4e-517f34d1e2b6",
   "metadata": {
    "ExecuteTime": {
     "end_time": "2024-03-15T14:15:39.975187300Z",
     "start_time": "2024-03-15T14:15:37.135042800Z"
    }
   },
   "outputs": [],
   "source": [
    "response = bedrock_runtime.invoke_model(body=body, modelId=\"amazon.titan-text-express-v1\")"
   ]
  },
  {
   "cell_type": "code",
   "execution_count": 45,
   "id": "3de4d035-08b5-4e36-8cfb-0970e91be787",
   "metadata": {
    "ExecuteTime": {
     "end_time": "2024-03-15T14:15:40.005290700Z",
     "start_time": "2024-03-15T14:15:39.979189200Z"
    }
   },
   "outputs": [
    {
     "data": {
      "text/plain": "{'ResponseMetadata': {'RequestId': '0466ff28-5a83-4d08-af07-4c647b2f0d07',\n  'HTTPStatusCode': 200,\n  'HTTPHeaders': {'date': 'Fri, 15 Mar 2024 14:15:40 GMT',\n   'content-type': 'application/json',\n   'content-length': '395',\n   'connection': 'keep-alive',\n   'x-amzn-requestid': '0466ff28-5a83-4d08-af07-4c647b2f0d07',\n   'x-amzn-bedrock-invocation-latency': '2027',\n   'x-amzn-bedrock-output-token-count': '58',\n   'x-amzn-bedrock-input-token-count': '6'},\n  'RetryAttempts': 0},\n 'contentType': 'application/json',\n 'body': <botocore.response.StreamingBody at 0x23cd82ca170>}"
     },
     "execution_count": 45,
     "metadata": {},
     "output_type": "execute_result"
    }
   ],
   "source": [
    "response"
   ]
  },
  {
   "cell_type": "markdown",
   "id": "ef379666-eb39-40a5-83f4-f15d838185b4",
   "metadata": {},
   "source": [
    "### Model response\n",
    "The result is stored within the response body, that you can access as shown below:"
   ]
  },
  {
   "cell_type": "code",
   "execution_count": 46,
   "id": "6e402220-1c19-40ef-b354-cf36d487223d",
   "metadata": {
    "ExecuteTime": {
     "end_time": "2024-03-15T14:15:40.061371800Z",
     "start_time": "2024-03-15T14:15:39.998291Z"
    }
   },
   "outputs": [
    {
     "data": {
      "text/plain": "{'inputTextTokenCount': 6,\n 'results': [{'tokenCount': 58,\n   'outputText': \"\\nAWS Bedrock is a managed service that makes foundation models from leading AI startup and Amazon's own Titan models available through APIs. For up-to-date information on Amazon Bedrock and how 3P models are approved, endorsed or selected please see the provided documentation and relevant FAQs.\",\n   'completionReason': 'FINISH'}]}"
     },
     "execution_count": 46,
     "metadata": {},
     "output_type": "execute_result"
    }
   ],
   "source": [
    "response_body = json.loads(response.get('body').read())\n",
    "response_body"
   ]
  },
  {
   "cell_type": "markdown",
   "id": "f1ed5377-9933-4111-812d-6b359c00fdbd",
   "metadata": {},
   "source": [
    "**Important: Note that json.loads(response.get('body').read()) can only be executed once. After that the buffer is empty. So make sure to store the result!**"
   ]
  },
  {
   "cell_type": "markdown",
   "id": "f8adee15-7dac-4b05-84ac-04b5ff28645a",
   "metadata": {},
   "source": [
    "\n",
    "- `inputTextTokenCount`: int\n",
    "  -  Number of tokens in the input text.\n",
    "- `results`: array of objects\n",
    "    - `tokenCount`: int\n",
    "      - Number of tokens in the generated output. \n",
    "    - `outputText`: string\n",
    "      - This string contains the actual text that was generated or outputted. The text includes newline characters (`\\n`) to denote new lines or paragraphs in the generated text.\n",
    "    - `completionReason`: string\n",
    "      - Reason why the response terminated. Either:\n",
    "      - `FINISHED` – The response was fully generated.\n",
    "      - `LENGTH` – The response was truncated because of maxTokenCount.\n",
    "\n"
   ]
  },
  {
   "cell_type": "code",
   "execution_count": 47,
   "id": "f1842e39-b557-4c2f-9e63-7f06efa54fb3",
   "metadata": {
    "ExecuteTime": {
     "end_time": "2024-03-15T14:15:40.063370200Z",
     "start_time": "2024-03-15T14:15:40.010290300Z"
    }
   },
   "outputs": [
    {
     "name": "stdout",
     "output_type": "stream",
     "text": [
      "\n",
      "AWS Bedrock is a managed service that makes foundation models from leading AI startup and Amazon's own Titan models available through APIs. For up-to-date information on Amazon Bedrock and how 3P models are approved, endorsed or selected please see the provided documentation and relevant FAQs.\n"
     ]
    }
   ],
   "source": [
    "print(response_body[\"results\"][0][\"outputText\"])"
   ]
  },
  {
   "cell_type": "markdown",
   "id": "2d512753-f501-45f6-9eff-001827b0812e",
   "metadata": {},
   "source": [
    "**What a beautiful answer!**\n",
    "However, a shorter answer would be nice, so let's reduce the max tokens"
   ]
  },
  {
   "cell_type": "code",
   "execution_count": 48,
   "id": "3d5c7303-94d8-481b-ac01-9e9b1bd78630",
   "metadata": {
    "ExecuteTime": {
     "end_time": "2024-03-15T14:15:41.062597600Z",
     "start_time": "2024-03-15T14:15:40.029293400Z"
    }
   },
   "outputs": [],
   "source": [
    "body = json.dumps({\n",
    "    \"inputText\": question,\n",
    "    \"textGenerationConfig\": {\n",
    "        \"maxTokenCount\": 20\n",
    "    }\n",
    "})\n",
    "response = bedrock_runtime.invoke_model(body=body, modelId=\"amazon.titan-text-express-v1\")"
   ]
  },
  {
   "cell_type": "code",
   "execution_count": 49,
   "id": "a23045d1-09cb-4adf-8442-12ad1d782d14",
   "metadata": {
    "ExecuteTime": {
     "end_time": "2024-03-15T14:15:41.122697400Z",
     "start_time": "2024-03-15T14:15:41.071597100Z"
    }
   },
   "outputs": [
    {
     "data": {
      "text/plain": "{'inputTextTokenCount': 6,\n 'results': [{'tokenCount': 20,\n   'outputText': \"\\nAWS Bedrock is a managed service that makes foundation models from leading AI startup and Amazon's own\",\n   'completionReason': 'LENGTH'}]}"
     },
     "execution_count": 49,
     "metadata": {},
     "output_type": "execute_result"
    }
   ],
   "source": [
    "response_body = json.loads(response.get('body').read())\n",
    "response_body"
   ]
  },
  {
   "cell_type": "markdown",
   "id": "fd9f09e7-ce5c-480b-9a2d-6eba49418173",
   "metadata": {},
   "source": [
    "Note how the completionReason changed from FINISHED to LENGTH indicating that the answer was truncated because of maxTokenCount"
   ]
  },
  {
   "cell_type": "markdown",
   "id": "584d942e-33e9-4f10-8e37-52456d3bea21",
   "metadata": {},
   "source": [
    "Let's try to get a better understanding of the parameters `temperature`and `topP` using the following prompt:"
   ]
  },
  {
   "cell_type": "code",
   "execution_count": 50,
   "id": "1862a796-98d7-4123-96b5-381d73af4e73",
   "metadata": {
    "ExecuteTime": {
     "end_time": "2024-03-15T14:15:41.123699100Z",
     "start_time": "2024-03-15T14:15:41.098699600Z"
    }
   },
   "outputs": [],
   "source": [
    "prompt = \"Tell me a story\""
   ]
  },
  {
   "cell_type": "markdown",
   "id": "7103d272-156a-40e8-9862-57ff3ccce618",
   "metadata": {},
   "source": [
    "First, a basic approach with a very low temperature and topP to decrease randomness and ignore less probable results"
   ]
  },
  {
   "cell_type": "code",
   "execution_count": 51,
   "id": "a97817c2-caca-46ed-829f-62de400d982f",
   "metadata": {
    "ExecuteTime": {
     "end_time": "2024-03-15T14:15:47.657551400Z",
     "start_time": "2024-03-15T14:15:41.115698400Z"
    }
   },
   "outputs": [
    {
     "data": {
      "text/plain": "{'inputTextTokenCount': 4,\n 'results': [{'tokenCount': 269,\n   'outputText': \"\\nOnce upon a time, there was a young man named John who had a passion for music. He grew up listening to his father's records and dreamed of becoming a famous musician. Despite his parents' objections, John pursued his dream and started writing his own songs.\\n\\nOne day, John's friend introduced him to a local music producer who was impressed with his talent. The producer offered to help John record his songs and produce an album. John was overjoyed and worked tirelessly on his music, pouring his heart and soul into each song.\\n\\nAfter months of hard work, John's album was finally released. It was a huge success, and he quickly gained a following of fans who loved his unique style and catchy melodies. John went on to tour the country, playing sold-out shows and receiving critical acclaim for his music.\\n\\nYears later, John looked back on his journey and realized that his passion for music had been the driving force behind his success. He had faced many challenges along the way, but he had never given up on his dream. And now, he was living his dream, traveling the world and making music that touched the hearts of millions of people.\\n\\nIn the end, John learned that true happiness comes from pursuing our passions and living our dreams, even when faced with obstacles and challenges.\",\n   'completionReason': 'FINISH'}]}"
     },
     "execution_count": 51,
     "metadata": {},
     "output_type": "execute_result"
    }
   ],
   "source": [
    "body = json.dumps({\n",
    "    \"inputText\": prompt,\n",
    "    \"textGenerationConfig\": {\n",
    "        \"temperature\": 0,\n",
    "        \"topP\": 0.01,  # needs to be larger than 0\n",
    "        \"maxTokenCount\": 512\n",
    "    }\n",
    "})\n",
    "response = bedrock_runtime.invoke_model(body=body, modelId=\"amazon.titan-text-express-v1\")\n",
    "response_body = json.loads(response.get('body').read())\n",
    "response_body"
   ]
  },
  {
   "cell_type": "code",
   "execution_count": 52,
   "id": "1ab61fa4-3201-4bc7-b89a-493fc655ad83",
   "metadata": {
    "ExecuteTime": {
     "end_time": "2024-03-15T14:15:47.717454200Z",
     "start_time": "2024-03-15T14:15:47.653548800Z"
    }
   },
   "outputs": [
    {
     "name": "stdout",
     "output_type": "stream",
     "text": [
      "\n",
      "Once upon a time, there was a young man named John who had a passion for music. He grew up listening to his father's records and dreamed of becoming a famous musician. Despite his parents' objections, John pursued his dream and started writing his own songs.\n",
      "\n",
      "One day, John's friend introduced him to a local music producer who was impressed with his talent. The producer offered to help John record his songs and produce an album. John was overjoyed and worked tirelessly on his music, pouring his heart and soul into each song.\n",
      "\n",
      "After months of hard work, John's album was finally released. It was a huge success, and he quickly gained a following of fans who loved his unique style and catchy melodies. John went on to tour the country, playing sold-out shows and receiving critical acclaim for his music.\n",
      "\n",
      "Years later, John looked back on his journey and realized that his passion for music had been the driving force behind his success. He had faced many challenges along the way, but he had never given up on his dream. And now, he was living his dream, traveling the world and making music that touched the hearts of millions of people.\n",
      "\n",
      "In the end, John learned that true happiness comes from pursuing our passions and living our dreams, even when faced with obstacles and challenges.\n"
     ]
    }
   ],
   "source": [
    "print(response_body[\"results\"][0][\"outputText\"])"
   ]
  },
  {
   "cell_type": "markdown",
   "id": "cca700e5-06ff-4ea7-adf5-928cca1822ac",
   "metadata": {},
   "source": [
    "Let's compare that to a more creative model by  increasing temperature and topP!"
   ]
  },
  {
   "cell_type": "code",
   "execution_count": 53,
   "id": "9a870bae-e2f7-4cd4-811d-2647939db5e6",
   "metadata": {
    "ExecuteTime": {
     "end_time": "2024-03-15T14:15:49.813748900Z",
     "start_time": "2024-03-15T14:15:47.681452400Z"
    }
   },
   "outputs": [
    {
     "data": {
      "text/plain": "{'inputTextTokenCount': 4,\n 'results': [{'tokenCount': 36,\n   'outputText': '\\nWriter: Good morning!\\nAI Bot: Good morning to you too! What would you like me to write a story about? I have many tales recorded in my database.',\n   'completionReason': 'FINISH'}]}"
     },
     "execution_count": 53,
     "metadata": {},
     "output_type": "execute_result"
    }
   ],
   "source": [
    "body = json.dumps({\n",
    "    \"inputText\": prompt,\n",
    "    \"textGenerationConfig\": {\n",
    "        \"temperature\": 1,\n",
    "        \"topP\": 1,\n",
    "        \"maxTokenCount\": 512\n",
    "    }\n",
    "})\n",
    "response = bedrock_runtime.invoke_model(body=body, modelId=\"amazon.titan-text-express-v1\")\n",
    "response_body = json.loads(response.get('body').read())\n",
    "response_body"
   ]
  },
  {
   "cell_type": "code",
   "execution_count": 54,
   "id": "e0778563-9201-4fb6-acc0-ec26152336ac",
   "metadata": {
    "ExecuteTime": {
     "end_time": "2024-03-15T14:15:49.853950600Z",
     "start_time": "2024-03-15T14:15:49.816746600Z"
    }
   },
   "outputs": [
    {
     "name": "stdout",
     "output_type": "stream",
     "text": [
      "\n",
      "Writer: Good morning!\n",
      "AI Bot: Good morning to you too! What would you like me to write a story about? I have many tales recorded in my database.\n"
     ]
    }
   ],
   "source": [
    "print(response_body[\"results\"][0][\"outputText\"])"
   ]
  },
  {
   "cell_type": "markdown",
   "id": "43fe09e6-6821-4320-ad9f-1813f15f990a",
   "metadata": {},
   "source": [
    "Well... You can see that by increasing temperature and topP your stories are getting more \"random\". \n",
    "Let's try something in between:"
   ]
  },
  {
   "cell_type": "code",
   "execution_count": 55,
   "id": "8e3ba1fc-fb12-494d-b497-c76abddcdb7a",
   "metadata": {
    "ExecuteTime": {
     "end_time": "2024-03-15T14:16:02.886369500Z",
     "start_time": "2024-03-15T14:15:49.833749Z"
    }
   },
   "outputs": [
    {
     "data": {
      "text/plain": "{'inputTextTokenCount': 4,\n 'results': [{'tokenCount': 512,\n   'outputText': \"\\nOnce upon a time, there was a little girl named Lily who loved to play in the park. She would run around, climb the jungle gym, and swing on the swings. One day, while she was playing, she saw a little bird sitting on a branch of a tree. The bird was singing a beautiful song, and Lily was mesmerized. She decided to climb up the tree and get closer to the bird. As she climbed, she noticed that the bird had a nest with three eggs in it. The eggs were blue and green, and they shimmered in the sunlight. Lily was so excited that she wanted to help the bird. She carefully climbed down the tree and picked up the eggs. She took them back to her house and put them in a box with some grass and leaves. She kept the box in her room and checked on the eggs every day. After a few days, the eggs started to hatch. One by one, little birds emerged from the eggs. They were the most beautiful birds that Lily had ever seen. They had bright yellow wings and blue beaks. Lily was so happy that she had helped the bird. She named the little birds Sunny, Sky, and Star. She took care of them by feeding them and giving them water. She even made a little nest for them in a birdhouse in her backyard. As the days went by, the little birds grew bigger and stronger. They started to fly around the house and garden. Lily was so proud of them. She would sit outside and watch them fly, feeling happy and content. One day, while Lily was playing in the park, she saw a group of children chasing a bird. The bird was flying around, trying to escape from the children. Lily ran over to the bird and picked it up. She took the bird back to her house and fed it some bread and water. The bird was grateful to Lily for saving it. It stayed with Lily for a few days, and then it flew away. Lily was sad to see the bird go, but she was happy that she had helped it. From that day on, Lily made it her mission to help all the animals in her neighborhood. She started a bird-watching club with her friends, and they would go out every weekend to see the different birds in the park. She also started a campaign to clean up the park and make it a safer place for the animals. Lily's love for animals grew stronger every day. She knew that she had found her true calling in life.\",\n   'completionReason': 'LENGTH'}]}"
     },
     "execution_count": 55,
     "metadata": {},
     "output_type": "execute_result"
    }
   ],
   "source": [
    "body = json.dumps({\n",
    "    \"inputText\": prompt,\n",
    "    \"textGenerationConfig\": {\n",
    "        \"temperature\": 0.8,\n",
    "        \"topP\": 0.3,\n",
    "        \"maxTokenCount\": 512\n",
    "    }\n",
    "})\n",
    "response = bedrock_runtime.invoke_model(body=body, modelId=\"amazon.titan-text-express-v1\")\n",
    "response_body = json.loads(response.get('body').read())\n",
    "response_body"
   ]
  },
  {
   "cell_type": "code",
   "execution_count": 56,
   "id": "f789d569-e96c-44b6-8793-9ffe3e5b2c3e",
   "metadata": {
    "ExecuteTime": {
     "end_time": "2024-03-15T14:16:02.932367100Z",
     "start_time": "2024-03-15T14:16:02.885369100Z"
    }
   },
   "outputs": [
    {
     "name": "stdout",
     "output_type": "stream",
     "text": [
      "\n",
      "Once upon a time, there was a little girl named Lily who loved to play in the park. She would run around, climb the jungle gym, and swing on the swings. One day, while she was playing, she saw a little bird sitting on a branch of a tree. The bird was singing a beautiful song, and Lily was mesmerized. She decided to climb up the tree and get closer to the bird. As she climbed, she noticed that the bird had a nest with three eggs in it. The eggs were blue and green, and they shimmered in the sunlight. Lily was so excited that she wanted to help the bird. She carefully climbed down the tree and picked up the eggs. She took them back to her house and put them in a box with some grass and leaves. She kept the box in her room and checked on the eggs every day. After a few days, the eggs started to hatch. One by one, little birds emerged from the eggs. They were the most beautiful birds that Lily had ever seen. They had bright yellow wings and blue beaks. Lily was so happy that she had helped the bird. She named the little birds Sunny, Sky, and Star. She took care of them by feeding them and giving them water. She even made a little nest for them in a birdhouse in her backyard. As the days went by, the little birds grew bigger and stronger. They started to fly around the house and garden. Lily was so proud of them. She would sit outside and watch them fly, feeling happy and content. One day, while Lily was playing in the park, she saw a group of children chasing a bird. The bird was flying around, trying to escape from the children. Lily ran over to the bird and picked it up. She took the bird back to her house and fed it some bread and water. The bird was grateful to Lily for saving it. It stayed with Lily for a few days, and then it flew away. Lily was sad to see the bird go, but she was happy that she had helped it. From that day on, Lily made it her mission to help all the animals in her neighborhood. She started a bird-watching club with her friends, and they would go out every weekend to see the different birds in the park. She also started a campaign to clean up the park and make it a safer place for the animals. Lily's love for animals grew stronger every day. She knew that she had found her true calling in life.\n"
     ]
    }
   ],
   "source": [
    "print(response_body[\"results\"][0][\"outputText\"])"
   ]
  }
 ],
 "metadata": {
  "kernelspec": {
   "display_name": "Python 3 (ipykernel)",
   "language": "python",
   "name": "python3"
  },
  "language_info": {
   "codemirror_mode": {
    "name": "ipython",
    "version": 3
   },
   "file_extension": ".py",
   "mimetype": "text/x-python",
   "name": "python",
   "nbconvert_exporter": "python",
   "pygments_lexer": "ipython3",
   "version": "3.9.12"
  }
 },
 "nbformat": 4,
 "nbformat_minor": 5
}
