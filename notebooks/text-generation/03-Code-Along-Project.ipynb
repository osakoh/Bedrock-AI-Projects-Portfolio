{
 "cells": [
  {
   "cell_type": "markdown",
   "id": "6768629e-0371-493e-863d-f1da3b5e9095",
   "metadata": {},
   "source": [
    "<a href = \"https://www.pieriantraining.com\"><img src=\"../PT Centered Purple.png\"> </a>\n",
    "\n",
    "<em style=\"text-align:center\">Copyrighted by Pierian Training</em>"
   ]
  },
  {
   "cell_type": "markdown",
   "id": "96925831-bc95-452b-989a-b8a3b4265799",
   "metadata": {},
   "source": [
    "# Code Along Project - Call Transcript Follow Ups\n",
    "\n",
    "Let's code along and leverage the power of LLMs to understand text data and use them to create a bot that automatically reads in a telephone transcript and gives a summary and follow-up action items."
   ]
  },
  {
   "cell_type": "markdown",
   "id": "8a98c344-f882-4175-9a6f-a68247b8ac86",
   "metadata": {},
   "source": [
    "### Step 1: Read in the transcript "
   ]
  },
  {
   "cell_type": "code",
   "execution_count": 1,
   "id": "64149d28-7221-4227-b31d-5277f654ea21",
   "metadata": {},
   "outputs": [],
   "source": [
    "with open('03-Call-Transcript.txt') as file:\n",
    "    \n",
    "    transcript = file.read()"
   ]
  },
  {
   "cell_type": "code",
   "execution_count": 3,
   "id": "65039195-48bb-4e46-b637-71c185b560d2",
   "metadata": {},
   "outputs": [
    {
     "name": "stdout",
     "output_type": "stream",
     "text": [
      "Mike Salesperson: Hello, this is Mike from SecureTech Solutions. May I speak with Claire?\n",
      "\n",
      "Claire Potential Client: Hi Mike, Claire here. What can I do for you today?\n",
      "\n",
      "Mike Salesperson: Hi Claire! I'm reaching out from SecureTech Solutions. I noticed your company's impressive growth and wanted to discuss your cybersecurity needs. Are you exploring new software solutions for this area?\n",
      "\n",
      "Claire Potential Client: Yes, Mike, we are. In fact, we're currently prioritizing enhancing our cybersecurity, especially around our SQL databases. What can SecureTech Solutions provide in this area?\n",
      "\n",
      "Mike Salesperson: That's a key area, Claire. We offer a robust cybersecurity suite, with special emphasis on SQL database security. Our services include advanced encryption methods, real-time threat monitoring, and custom solutions for database security.\n",
      "\n",
      "Claire Potential Client: That's exactly what we're looking for. How does your solution ensure the security of SQL databases specifically?\n",
      "\n",
      "Mike Salesperson: Our solution is designed to address the unique challenges of SQL database security. It includes features like AI-driven threat detection, which anticipates and neutralizes potential threats, and a layered security approach to protect against various types of cyber attacks, including SQL injections.\n",
      "\n",
      "Claire Potential Client: Sounds comprehensive. What about the implementation process? We have a complex system in place already.\n",
      "\n",
      "Mike Salesperson: Our software is engineered for compatibility and ease of integration with existing systems, including complex SQL databases. We also provide a dedicated support team to assist with the integration process, ensuring a smooth and efficient transition.\n",
      "\n",
      "Claire Potential Client: That's reassuring to hear. Could we also talk about customization options? Our needs are quite specific.\n",
      "\n",
      "Mike Salesperson: Absolutely. Our solutions are highly customizable. We can tailor the security features to align with your specific requirements, ensuring that your SQL databases are not just secure, but also optimized for performance.\n",
      "\n",
      "Claire Potential Client: Great. And how does your pricing model work?\n",
      "\n",
      "Mike Salesperson: Our pricing is flexible and based on the specific services you require. I can prepare a detailed quote and proposal tailored to your needs. Would it be helpful to have a call to discuss this in more detail?\n",
      "\n",
      "Claire Potential Client: Yes, that would be helpful. Could you send me an initial proposal and then we can set up a time to discuss it over a call?\n",
      "\n",
      "Mike Salesperson: Of course, Claire. I'll prepare and send an initial proposal covering our SQL database security solutions and pricing. I'll also include some potential times for our follow-up call. Is there a particular time or day that works best for you?\n",
      "\n",
      "Claire Potential Client: I'm generally free in the afternoons. If you send me a few options, I can confirm what works best.\n",
      "\n",
      "Mike Salesperson: Perfect. I'll include a few afternoon slots in my email. Before I let you go, are there any other specific areas of cybersecurity you're interested in?\n",
      "\n",
      "Claire Potential Client: Along with database security, we're also looking into enhancing our overall data protection and intrusion detection systems.\n",
      "\n",
      "Mike Salesperson: Understood. I'll make sure to include information on our comprehensive data protection and intrusion detection capabilities in the proposal. Thank you for your time today, Claire. You'll hear from me soon with the details.\n",
      "\n",
      "Claire Potential Client: Thank you, Mike. I appreciate the thoroughness. Looking forward to your email and our upcoming discussion. Have a good day!\n",
      "\n",
      "Mike Salesperson: You too, Claire. Goodbye!\n"
     ]
    }
   ],
   "source": [
    "print(transcript)"
   ]
  },
  {
   "cell_type": "markdown",
   "id": "95a8cb25-6dbe-4c21-9c4a-7a85fad41dc8",
   "metadata": {},
   "source": [
    "## Step 2: Establish connection to model"
   ]
  },
  {
   "cell_type": "code",
   "execution_count": 9,
   "id": "6eefc533-54bb-4b3c-80a9-2d421ac3ef03",
   "metadata": {},
   "outputs": [],
   "source": [
    "import boto3\n",
    "import json\n",
    "bedrock_runtime = boto3.client(region_name=\"us-east-1\",\n",
    "                               service_name='bedrock-runtime')\n"
   ]
  },
  {
   "cell_type": "markdown",
   "id": "284ed5fe-88e8-4bdb-bc54-bc211e461824",
   "metadata": {},
   "source": [
    "## Step 3: Engineer Prompt with Transcript"
   ]
  },
  {
   "cell_type": "code",
   "execution_count": 18,
   "id": "e2e9ee27-5c15-41f5-b4fc-a7e0e79f1a75",
   "metadata": {},
   "outputs": [],
   "source": [
    "prompt = f\"Summarize this call transcript in 3 sentences and create a bullet point list of follow-up action items for the sales person:\\n{transcript}\""
   ]
  },
  {
   "cell_type": "markdown",
   "id": "1f08f1d6-81b7-4337-a4af-30a86889b8ba",
   "metadata": {},
   "source": [
    "## Step 4: Call Model with Instructions and Parameters"
   ]
  },
  {
   "cell_type": "code",
   "execution_count": 19,
   "id": "61eb7d37-3778-4880-959d-559846ab2d2c",
   "metadata": {},
   "outputs": [],
   "source": [
    "body = json.dumps({\n",
    "    \"inputText\": prompt,\n",
    "    \"textGenerationConfig\": {\n",
    "        \"temperature\": 0,\n",
    "        \"maxTokenCount\": 4096\n",
    "    }\n",
    "})"
   ]
  },
  {
   "cell_type": "code",
   "execution_count": 20,
   "id": "2d2df09c-e696-46f4-9f92-78f4363df01b",
   "metadata": {},
   "outputs": [
    {
     "name": "stdout",
     "output_type": "stream",
     "text": [
      "\n",
      "Summary:\n",
      "Mike from SecureTech Solutions calls Claire, a potential client, to discuss their cybersecurity needs. Claire expresses their priority on enhancing their SQL database security and Mike provides information about their robust cybersecurity suite, with a focus on SQL database security. They discuss the features of the solution, including AI-driven threat detection, layered security, and compatibility with complex systems. Claire expresses concerns about the implementation process and customization options, to which Mike assures them that their software is engineered for ease of integration and customization. They also discuss pricing, which is flexible and based on the specific services required. Mike prepares an initial proposal and schedules a follow-up call to discuss the details further. Claire mentions their interest in enhancing their data protection and intrusion detection systems, which Mike will include in the proposal. The call ends with gratitude and anticipation for the upcoming discussion.\n",
      "\n",
      "Follow-up Action Items:\n",
      "• Prepare and send an initial proposal covering SQL database security solutions and pricing.\n",
      "• Schedule a follow-up call to discuss the proposal in more detail.\n",
      "• Include information on comprehensive data protection and intrusion detection capabilities in the proposal.\n",
      "• Follow up with any additional questions or concerns raised by Claire.\n",
      "• Continuously monitor and update Claire on the progress of the proposal.\n",
      "• Prepare for the follow-up call by reviewing the relevant information and preparing any additional materials or demonstrations.\n"
     ]
    }
   ],
   "source": [
    "response = bedrock_runtime.invoke_model(body=body, modelId=\"amazon.titan-text-express-v1\")\n",
    "response_body = json.loads(response.get('body').read())\n",
    "print(response_body[\"results\"][0][\"outputText\"])"
   ]
  },
  {
   "cell_type": "markdown",
   "id": "bafbec77-5296-4744-81d1-b60ec0d383f6",
   "metadata": {},
   "source": [
    "## Step 5: Functionalize the process (optional but nice to have)"
   ]
  },
  {
   "cell_type": "code",
   "execution_count": 21,
   "id": "fe0aadaf-2df0-4e3f-9e34-17ad720fb60c",
   "metadata": {},
   "outputs": [],
   "source": [
    "import boto3\n",
    "import json\n",
    "\n",
    "def summary_and_action_items(transcript_file_path):\n",
    "    \n",
    "    with open(transcript_file_path) as file:\n",
    "    \n",
    "        transcript = file.read()\n",
    "\n",
    "    bedrock_runtime = boto3.client(region_name=\"us-east-1\",\n",
    "                                   service_name='bedrock-runtime')\n",
    "\n",
    "    prompt = f\"Summarize this call transcript in 3 sentences and create a bullet point list of follow-up action items for the sales person:\\n{transcript}\"\n",
    "    \n",
    "    body = json.dumps({\n",
    "    \"inputText\": prompt,\n",
    "    \"textGenerationConfig\": {\n",
    "        \"temperature\": 0,\n",
    "        \"maxTokenCount\": 4096\n",
    "        }\n",
    "    })\n",
    "    \n",
    "    response = bedrock_runtime.invoke_model(body=body, modelId=\"amazon.titan-text-express-v1\")\n",
    "    response_body = json.loads(response.get('body').read())\n",
    "    return response_body[\"results\"][0][\"outputText\"]"
   ]
  },
  {
   "cell_type": "code",
   "execution_count": 22,
   "id": "4bb43ff8-bdb5-4054-81b3-9b1e5f2d5252",
   "metadata": {},
   "outputs": [
    {
     "name": "stdout",
     "output_type": "stream",
     "text": [
      "\n",
      "Summary:\n",
      "Mike from SecureTech Solutions calls Claire, a potential client, to discuss their cybersecurity needs. Claire expresses their priority on enhancing their SQL database security and Mike provides information about their robust cybersecurity suite, with a focus on SQL database security. They discuss the features of the solution, including AI-driven threat detection, layered security, and compatibility with complex systems. Claire expresses concerns about the implementation process, and Mike assures them of a smooth and efficient transition with a dedicated support team. They also discuss customization options, pricing, and a follow-up call to discuss the proposal in more detail. Claire mentions their interest in enhancing their data protection and intrusion detection systems, which Mike will include in the proposal. The call ends with gratitude and anticipation for the upcoming discussion.\n",
      "\n",
      "Follow-up Action Items:\n",
      "• Prepare and send an initial proposal covering SQL database security solutions and pricing.\n",
      "• Schedule a follow-up call to discuss the proposal in more detail, including afternoon slots that work best for Claire.\n",
      "• Include information on comprehensive data protection and intrusion detection capabilities in the proposal.\n",
      "• Follow up with any additional questions or concerns expressed by Claire.\n",
      "• Continuously monitor and update Claire on the progress of the proposal.\n",
      "• Prepare for the follow-up call by reviewing the company's SQL database security solutions, pricing, and capabilities.\n",
      "• Identify any additional areas of cybersecurity that Claire may be interested in and prepare to discuss them.\n",
      "• Ensure that the sales person has all the necessary information and resources to provide a comprehensive and effective presentation during the follow-up call.\n"
     ]
    }
   ],
   "source": [
    "result = summary_and_action_items('03-Call-Transcript.txt')\n",
    "print(result)"
   ]
  },
  {
   "cell_type": "code",
   "execution_count": null,
   "id": "0a8cf58e-3844-43e6-9aaf-e551973249ac",
   "metadata": {},
   "outputs": [],
   "source": []
  }
 ],
 "metadata": {
  "kernelspec": {
   "display_name": "Python 3 (ipykernel)",
   "language": "python",
   "name": "python3"
  },
  "language_info": {
   "codemirror_mode": {
    "name": "ipython",
    "version": 3
   },
   "file_extension": ".py",
   "mimetype": "text/x-python",
   "name": "python",
   "nbconvert_exporter": "python",
   "pygments_lexer": "ipython3",
   "version": "3.9.12"
  }
 },
 "nbformat": 4,
 "nbformat_minor": 5
}
